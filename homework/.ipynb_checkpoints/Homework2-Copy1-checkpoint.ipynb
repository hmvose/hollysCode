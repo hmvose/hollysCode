{
 "cells": [
  {
   "cell_type": "markdown",
   "id": "75d7ff8b-cff3-4425-8958-8196d331ba97",
   "metadata": {},
   "source": [
    "### BIOL520 HOMEWORK 2 ###\n",
    "$\\textbf{Holly Vose}$"
   ]
  },
  {
   "cell_type": "code",
   "execution_count": 3,
   "id": "1b468c52-a52d-4811-9706-86657a602aeb",
   "metadata": {},
   "outputs": [],
   "source": [
    "# include any imports you'll need here!\n",
    "import random \n",
    "import numpy as np\n",
    "\n",
    "import matplotlib.pyplot as plt\n",
    "\n",
    "import seaborn as sns\n",
    "sns.set()"
   ]
  },
  {
   "cell_type": "markdown",
   "id": "30f83837-ec25-4386-9b13-8c03309b9b1d",
   "metadata": {
    "tags": []
   },
   "source": [
    "## Problem 1 \n",
    "\n",
    "Complete Exercises 2.1 and 2.2 in Alon. Make sure to compare your results to the real network shown in Figure 2.1, which has 40 self-arrows."
   ]
  },
  {
   "cell_type": "code",
   "execution_count": 13,
   "id": "d6ebf884-6d5c-4840-b488-87f4dd723508",
   "metadata": {},
   "outputs": [],
   "source": [
    "#2.1\n",
    "def network_gen(arrows, nodes):\n",
    "    i = 0\n",
    "    selfpoint = 0\n",
    "    while i < arrows:\n",
    "        pfrom = random.choice(range(nodes))\n",
    "\n",
    "        pto = random.choice(range(nodes))\n",
    "\n",
    "        #print(str(pfrom) + \" points to \" + str(pto))\n",
    "\n",
    "        if pfrom == pto:\n",
    "            selfpoint+= 1\n",
    "\n",
    "        i+= 1\n",
    "\n",
    "    return selfpoint"
   ]
  },
  {
   "cell_type": "code",
   "execution_count": 15,
   "id": "23bf9e86-1cf1-4139-acc1-42cb67c20553",
   "metadata": {},
   "outputs": [
    {
     "data": {
      "text/plain": [
       "1"
      ]
     },
     "execution_count": 15,
     "metadata": {},
     "output_type": "execute_result"
    }
   ],
   "source": [
    "network_gen(400,500)"
   ]
  },
  {
   "cell_type": "code",
   "execution_count": 11,
   "id": "826d5221-8e10-4456-86ce-22cc2696d0d4",
   "metadata": {},
   "outputs": [],
   "source": [
    "dataset = np.zeros(100)\n",
    "\n",
    "for i in range(len(dataset)):\n",
    "    dataset[i] = network_gen(500, 400)"
   ]
  },
  {
   "cell_type": "code",
   "execution_count": 14,
   "id": "06d24da9-e171-4d0f-86e3-d704d1d7354d",
   "metadata": {},
   "outputs": [
    {
     "name": "stdout",
     "output_type": "stream",
     "text": [
      "mean: 1.27\n",
      "standard deviation: 1.0756858277396797\n"
     ]
    }
   ],
   "source": [
    "print(\"mean: \" + str(np.mean(dataset)))\n",
    "print(\"standard deviation: \" + str(np.std(dataset)))"
   ]
  },
  {
   "cell_type": "markdown",
   "id": "c2b94e03-30e0-40c2-bcd6-195ae8a81976",
   "metadata": {},
   "source": [
    "$\\text{For Alon } 2.1: $\n",
    "\n",
    "$$\\text{Mean: } 1.27$$\n",
    "$$\\text{Standard Deviation: } 1.0756858277396797 $$"
   ]
  },
  {
   "cell_type": "code",
   "execution_count": 18,
   "id": "f33b5832-6077-4ed0-9e1c-b361c920b877",
   "metadata": {},
   "outputs": [],
   "source": [
    "#Alon 2.2\n",
    "def mer_network_gen(arrows, nodes, n1):\n",
    "    i = 0\n",
    "    selfpoint = 0\n",
    "    while i < arrows:\n",
    "        #range that can generate arrows is n1\n",
    "        pfrom = random.choice(range(n1))\n",
    "        \n",
    "        #can point to any node available\n",
    "        pto = random.choice(range(nodes))\n",
    "\n",
    "        if pfrom == pto:\n",
    "            selfpoint+= 1\n",
    "\n",
    "        i+= 1\n",
    "\n",
    "    return selfpoint"
   ]
  },
  {
   "cell_type": "code",
   "execution_count": 19,
   "id": "e64b3170-a2d6-4305-9f37-8d39f7d0f8b5",
   "metadata": {},
   "outputs": [],
   "source": [
    "dataset_mer = np.zeros(100)\n",
    "\n",
    "for i in range(len(dataset_mer)):\n",
    "    dataset_mer[i] = mer_network_gen(500, 400, 100)"
   ]
  },
  {
   "cell_type": "code",
   "execution_count": 20,
   "id": "30b40dcc-00ea-44d7-994e-58c47b874477",
   "metadata": {},
   "outputs": [
    {
     "name": "stdout",
     "output_type": "stream",
     "text": [
      "mean: 1.41\n",
      "standard deviation: 1.3348782716038192\n"
     ]
    }
   ],
   "source": [
    "print(\"mean: \" + str(np.mean(dataset_mer)))\n",
    "print(\"standard deviation: \" + str(np.std(dataset_mer)))"
   ]
  },
  {
   "cell_type": "markdown",
   "id": "04882f86-0554-4b2e-897b-ad722919f629",
   "metadata": {},
   "source": [
    "$\\text{For Alon 2.2: }$\n",
    "\n",
    "$$\\text{Mean: } 1.41$$\n",
    "$$\\text{Standard Deviation: } 1.3348782716038192 $$\n",
    "\n",
    "$\\text{If we look at the comparison, the difference of 1 self arrow vs 40 shows a pretty extreme deviation of about 30 standard deviations away from the norm.}$\n",
    "\n",
    "$\\text{In both situations, the predictions of the program versus the actual graph are far, far lower. This would indicate that networks}$\n",
    "$\\text{found in biological systems are likely not random.}$\n",
    "\n",
    "$\\text{For a system of N networks and A arrows, the number of self arrows should be } \\frac{A}{N}.$\n",
    "\n",
    "$\\text{With our network values, we should expect an average of } \\frac{500}{400} = 1.25. $\n",
    "\n",
    "$\\text{Similarly }$"
   ]
  },
  {
   "cell_type": "markdown",
   "id": "26f2ecc0-12e8-47ee-835c-377dafaddc16",
   "metadata": {},
   "source": [
    "## Problem 2\n",
    "\n",
    "Complete Exercise 2.4 in Alon. Note that mathematically finding the steady state for \n",
    "\n",
    "$$\\frac{dX}{dt} = \\frac{\\beta}{1+\\frac{X^n}{K^n}} - \\alpha X \\tag{1} $$\n",
    "\n",
    "is quite difficult, so you can assume the approximation of strong autorepression, where\n",
    "\n",
    "$$\\frac{dX}{dt} = \\frac{\\beta K^n}{X^n} - \\alpha X. \\tag{2}$$  \n",
    "\n",
    "Use this approximate form to find the steady-state and explore its sensitivity to $\\beta$ as directed in the book problem."
   ]
  },
  {
   "cell_type": "markdown",
   "id": "7fae5a8c-d4eb-45c4-8ab3-92ae19987603",
   "metadata": {},
   "source": [
    "$\\text{We know that steady state will occur when } \\frac{dX}{dt} \\text{ is 0. By doing so, we can start to isolate X.}$\n",
    "\n",
    "$$0 = \\frac{\\beta K^n}{X^n} - \\alpha X$$\n",
    "\n",
    "$$X^n(\\alpha X) = \\beta K^n$$\n",
    "\n",
    "$$X^{n+1} = \\frac{\\beta K^n}{\\alpha}$$\n",
    "\n",
    "$\\textbf{We now have all the information needed to find the X steady state:}$\n",
    "\n",
    "$$X_{st} = \\sqrt[n+1]\\frac{\\beta K^n}{\\alpha} = K\\left(\\frac{\\beta}{\\alpha K}\\right)^\\frac{1}{n+1}$$\n",
    "$\\text{(These forms are equivalent)}$\n",
    "\n",
    "$\\text{To find the derivative of the steady state, we must find the derivative of } \\beta \\text{ with respect to } X_{st}.$\n",
    "\n",
    "$$ \\frac{d}{d\\beta} = \\frac{K}{(\\alpha K)}^\\frac{1}{n+1}  \\beta ^ \\frac{1}{n+1} $$\n",
    "\n",
    "$$ \\frac{d}{d\\beta} = \\frac{1}{n+1}\\left(\\frac{K}{(\\alpha K)^\\frac{1}{n+1}}  \\beta ^ {\\left(\\frac{1}{n+1}\\right)-1}\\right)$$\n",
    "\n",
    "$$ \\frac{\\beta}{d\\beta} = \\frac{1}{n+1}\\left(K\\left(\\frac{\\beta}{\\alpha K}\\right)^\\frac{1}{n+1}\\right)$$\n",
    "\n",
    "$\\text{Now that we have the derivative of }\\beta, \\text{we can now account for the derivative of the steady state.}$\n",
    "\n",
    "$$ \\frac{\\beta}{d\\beta} = \\frac{\\frac{1}{n+1}\\left(K\\left(\\frac{\\beta}{\\alpha K}\\right)^\\frac{1}{n+1}\\right)}{X_{st}} $$\n",
    "\n",
    "$$ \\frac{\\beta}{d\\beta} = \\frac{\\frac{1}{n+1}\\left(K\\left(\\frac{\\beta}{\\alpha K}\\right)^\\frac{1}{n+1}\\right)}{ K\\left(\\frac{\\beta}{\\alpha K}\\right)^\\frac{1}{n+1}} $$\n",
    "\n",
    "$\\textbf{With everything simplified, our final simplified stability equation is: }$\n",
    "\n",
    "$$ \\frac{\\beta}{X_{st}} \\frac{dX_{st}}{d\\beta}  = \\frac{1}{n+1}$$\n",
    "\n",
    "$\\text{Here, we can clearly see that our senstivity, } \\beta \\text{, is dependent on the hill coefficient. Consider the change in steady state with respect to }\\beta$\n",
    "\n",
    "$\\text{At large hill coefficients, the robustness is high, as changes in } \\beta \\text{ are much smaller when reflecting on } X_{st}, \\text{ as changes that occur when } n=4 \\text{ are reduced by 1/5.}$\n",
    "\n",
    "$\\text{Conversely, at low hill coefficients, the steady state changes by the expected amount, since it is a 1/1 change when } n=0. \\text{ We will understand this impact graphically in the next problem.}$"
   ]
  },
  {
   "cell_type": "markdown",
   "id": "4a5a8921-ac66-497a-8f03-c2d4ab30df5d",
   "metadata": {},
   "source": [
    "## Problem 3\n",
    "\n",
    "Continuing your exploration of Exercise 2.4, graphically explore the idea of the sensitivity of the steady-state with respect to $\\beta$ as a result of changing $n$. \n",
    "\n",
    "Make plots akin to those seen in Figure 2.10 and Figure 2.11, this time where removal is held constant and $\\beta$ is varied $\\pm$ 10%. Make one version of the plot where $n=4$ and one version where $n=0$. Use your plots to validate that the change in the steady-state upon changing $\\beta$ is in fact smaller when $n$ is larger.   "
   ]
  },
  {
   "cell_type": "code",
   "execution_count": 5,
   "id": "2f93e7e1-f056-4b64-9aa1-a92b0854d7c8",
   "metadata": {},
   "outputs": [],
   "source": [
    "beta1 = 100\n",
    "betahigh = 110\n",
    "betalow = 90\n",
    "K = 5\n",
    "n1 = 0\n",
    "n2 = 4\n",
    "alpha = 10\n",
    "\n",
    "x = np.linspace(5,15,100)\n",
    "ydeg = alpha*x\n",
    " #put in eq here"
   ]
  },
  {
   "cell_type": "code",
   "execution_count": 25,
   "id": "8ee7914c-cb16-47b2-a099-ba9248d230fd",
   "metadata": {},
   "outputs": [],
   "source": [
    "def intercepts(x, y1, y2):\n",
    "    best_ind = 0\n",
    "    best_val = y2[0]-y1[0]\n",
    "    \n",
    "    for i in range(len(x)):\n",
    "        curr_diff = abs(y2[i]-y1[i])\n",
    "        if curr_diff < best_val:\n",
    "            best_val = curr_diff\n",
    "            best_ind = i\n",
    "    \n",
    "    x_int = x[best_ind]\n",
    "    y_int = y1[best_ind]\n",
    "    \n",
    "    \n",
    "    return x_int, y_int"
   ]
  },
  {
   "cell_type": "code",
   "execution_count": 34,
   "id": "2abf3a04-e5c5-4b71-b3e3-9a23d5246cc7",
   "metadata": {},
   "outputs": [
    {
     "name": "stdout",
     "output_type": "stream",
     "text": [
      "Graphs cross at the following points:\n",
      "beta (no change): 99.4949494949495\n",
      "beta (+10%): 109.59595959595958\n",
      "beta (-10%): 90.40404040404042\n",
      "These points are approximations, and could stand to be more accurate with other methods of derivation.\n"
     ]
    },
    {
     "data": {
      "image/png": "[encoded data removed]",
      "text/plain": [
       "<Figure size 432x288 with 1 Axes>"
      ]
     },
     "metadata": {},
     "output_type": "display_data"
    }
   ],
   "source": [
    "ybeta1 = (beta1*(K**n1))/x**n1\n",
    "ybetahigh = (betahigh*(K**n1))/x**n1\n",
    "ybetalow = (betalow*(K**n1))/x**n1\n",
    "\n",
    "beta_point = intercepts(x, ydeg, ybeta1)\n",
    "beta_high_point = intercepts(x, ydeg, ybetahigh)\n",
    "beta_low_point = intercepts(x, ydeg, ybetalow)\n",
    "\n",
    "plt.plot(x, ybeta1, color = 'r')\n",
    "plt.plot(x, ybetahigh, color = 'g')\n",
    "plt.plot(x, ybetalow, color = 'k')\n",
    "plt.plot(x, ydeg)\n",
    "plt.plot(beta_point[0], beta_point[1], 'ko')\n",
    "plt.plot(beta_high_point[0], beta_high_point[1], 'ko')\n",
    "plt.plot(beta_low_point[0], beta_low_point[1], 'ko')\n",
    "plt.ylabel('rates')\n",
    "plt.title('robustness when n=0')\n",
    "plt.legend(['beta', 'beta 10% higher', 'beta 10% lower'])\n",
    "\n",
    "print(\"Graphs cross at the following points:\")\n",
    "print(\"beta (no change): \" + str(beta_point[1]))\n",
    "print(\"beta (+10%): \" + str(beta_high_point[1]))\n",
    "print(\"beta (-10%): \" + str(beta_low_point[1]))\n",
    "\n",
    "print(\"These points are approximations, and could stand to be more accurate with other methods of derivation.\")"
   ]
  },
  {
   "cell_type": "markdown",
   "id": "cdddb05e-786b-45f1-8674-6620dbf904e4",
   "metadata": {},
   "source": [
    "$\\text{When n is low, we see an even change when } \\beta \\text{ is 10% bigger or 10% smaller.}$\n",
    "\n",
    "$\\text{Now, if we change the hill coefficient to be really high, we see something different:}$"
   ]
  },
  {
   "cell_type": "code",
   "execution_count": 33,
   "id": "5d421824-161d-4db7-a72b-dc83060802ef",
   "metadata": {},
   "outputs": [
    {
     "name": "stdout",
     "output_type": "stream",
     "text": [
      "Graphs cross at the following points:\n",
      "beta (no change): 57.070707070707066\n",
      "beta (+10%): 58.08080808080808\n",
      "beta (-10%): 56.06060606060606\n",
      "These points are approximations, and could stand to be more accurate with other methods of derivation.\n"
     ]
    },
    {
     "data": {
      "image/png": "[encoded data removed]",
      "text/plain": [
       "<Figure size 432x288 with 1 Axes>"
      ]
     },
     "metadata": {},
     "output_type": "display_data"
    }
   ],
   "source": [
    "ybeta1 = (beta1*(K**n2))/x**n2\n",
    "ybetahigh = (betahigh*(K**n2))/x**n2\n",
    "ybetalow = (betalow*(K**n2))/x**n2\n",
    "\n",
    "beta_point = intercepts(x, ydeg, ybeta1)\n",
    "beta_high_point = intercepts(x, ydeg, ybetahigh)\n",
    "beta_low_point = intercepts(x, ydeg, ybetalow)\n",
    "\n",
    "plt.plot(x, ybeta1, color = 'r')\n",
    "plt.plot(x, ybetahigh, color = 'g')\n",
    "plt.plot(x, ybetalow, color = 'k')\n",
    "plt.plot(x, ydeg)\n",
    "plt.xlim(5,7)\n",
    "plt.plot(beta_point[0], beta_point[1], 'ko')\n",
    "plt.plot(beta_high_point[0], beta_high_point[1], 'ko')\n",
    "plt.plot(beta_low_point[0], beta_low_point[1], 'ko')\n",
    "plt.ylabel('rates')\n",
    "plt.title('robustness when n=4')\n",
    "plt.legend(['beta', 'beta 10% higher', 'beta 10% lower'])\n",
    "\n",
    "print(\"Graphs cross at the following points:\")\n",
    "print(\"beta (no change): \" + str(beta_point[1]))\n",
    "print(\"beta (+10%): \" + str(beta_high_point[1]))\n",
    "print(\"beta (-10%): \" + str(beta_low_point[1]))\n",
    "\n",
    "print(\"These points are approximations, and could stand to be more accurate with other methods of derivation.\")"
   ]
  },
  {
   "cell_type": "markdown",
   "id": "450cb61b-7ecd-43e3-b50d-2bbe9304ff84",
   "metadata": {},
   "source": [
    "$\\text{And indeed, we see that our analysis of the steady state robustness is correct.}$\n",
    "$\\text{When } n \\text{ is low, the changes are relatively constant across changes in }\\beta.$\n",
    "$\\text{But when } n \\text{ is high, the changes are much smaller relative to each other, indicating a robust system.}$"
   ]
  }
 ],
 "metadata": {
  "kernelspec": {
   "display_name": "Python 3 (ipykernel)",
   "language": "python",
   "name": "python3"
  },
  "language_info": {
   "codemirror_mode": {
    "name": "ipython",
    "version": 3
   },
   "file_extension": ".py",
   "mimetype": "text/x-python",
   "name": "python",
   "nbconvert_exporter": "python",
   "pygments_lexer": "ipython3",
   "version": "3.9.12"
  }
 },
 "nbformat": 4,
 "nbformat_minor": 5
}
