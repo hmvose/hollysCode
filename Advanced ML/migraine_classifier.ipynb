{
 "cells": [
  {
   "cell_type": "code",
   "execution_count": 1,
   "id": "d7240944-3014-4179-8ef7-b09bdc15d961",
   "metadata": {},
   "outputs": [],
   "source": [
    "#all necessary imports\n",
    "import pandas as pd\n",
    "from sklearn import metrics"
   ]
  },
  {
   "cell_type": "markdown",
   "id": "8e77edda-6ab6-4e81-a5cc-3f57874044b7",
   "metadata": {},
   "source": [
    "### IMPORTANT NOTES\n",
    "\n",
    "\n"
   ]
  },
  {
   "cell_type": "code",
   "execution_count": 21,
   "id": "33b3ba83-15b9-41c6-98df-36976a3370c7",
   "metadata": {},
   "outputs": [],
   "source": [
    "#load data into viewable format\n",
    "\n",
    "data = pd.read_csv('data.csv', delimiter = \",\")\n",
    "\n",
    "#print(data.head()) #ensure data was loaded correctly\n",
    "\n",
    "#print(data.isnull().sum()) #checks to see how many null values are present in each column\n",
    "\n",
    "#print(data.info()) #info regarding the types and null info of the dataframe\n",
    "\n",
    "patient = data[['Age','Duration','Frequency','Location','Character','Intensity','Nausea','Vomit','Phonophobia','Photophobia','Visual','Sensory','Dysphasia','Dysarthria','Vertigo','Tinnitus','Hypoacusis','Diplopia','Defect','Ataxia','Conscience','Paresthesia','DPF']].values\n",
    "target = data['Type']  #select target\n",
    "\n",
    "#patient is a giant array of all values (can think of as 'patients')\n",
    "#target is the type classified for each 'patient'"
   ]
  },
  {
   "cell_type": "code",
   "execution_count": 16,
   "id": "b3b70cc4-6495-4d6d-916b-551976f7046f",
   "metadata": {},
   "outputs": [],
   "source": [
    "#partitioning the dataset\n",
    "from sklearn.model_selection import train_test_split\n",
    "splitPercent = 0.25\n",
    "xTrain, yTrain, xTest, yTest = train_test_split(patient, target, test_size=splitPercent)"
   ]
  },
  {
   "cell_type": "code",
   "execution_count": null,
   "id": "783ec71f-5e33-469d-9e0f-2743c0548833",
   "metadata": {},
   "outputs": [],
   "source": [
    "#neural network framework\n"
   ]
  },
  {
   "cell_type": "code",
   "execution_count": null,
   "id": "fab941cb-201e-4be8-90db-d3f67dc5630c",
   "metadata": {},
   "outputs": [],
   "source": []
  }
 ],
 "metadata": {
  "kernelspec": {
   "display_name": "Python 3 (ipykernel)",
   "language": "python",
   "name": "python3"
  },
  "language_info": {
   "codemirror_mode": {
    "name": "ipython",
    "version": 3
   },
   "file_extension": ".py",
   "mimetype": "text/x-python",
   "name": "python",
   "nbconvert_exporter": "python",
   "pygments_lexer": "ipython3",
   "version": "3.9.12"
  }
 },
 "nbformat": 4,
 "nbformat_minor": 5
}
