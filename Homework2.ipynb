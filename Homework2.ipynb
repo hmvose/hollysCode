{
 "cells": [
  {
   "cell_type": "code",
   "execution_count": 1,
   "id": "23d22d41-a31a-4c5f-b22b-7629705ede4b",
   "metadata": {},
   "outputs": [],
   "source": [
    "# include any imports you'll need here!\n",
    "import random \n",
    "import numpy as np\n",
    "\n",
    "import matplotlib.pyplot as plt\n",
    "\n",
    "import seaborn as sns\n",
    "sns.set()"
   ]
  },
  {
   "cell_type": "markdown",
   "id": "30f83837-ec25-4386-9b13-8c03309b9b1d",
   "metadata": {},
   "source": [
    "## Problem 1 \n",
    "\n",
    "Complete Exercises 2.1 and 2.2 in Alon. Make sure to compare your results to the real network shown in Figure 2.1, which has 40 self-arrows."
   ]
  },
  {
   "cell_type": "code",
   "execution_count": 3,
   "id": "d6ebf884-6d5c-4840-b488-87f4dd723508",
   "metadata": {},
   "outputs": [],
   "source": [
    "#2.1\n",
    "def network_gen(arrows, nodes):\n",
    "    i = 0\n",
    "    selfpoint = 0\n",
    "    while i < arrows:\n",
    "        pfrom = random.choice(range(nodes))\n",
    "\n",
    "        pto = random.choice(range(nodes))\n",
    "\n",
    "        #print(str(pfrom) + \" points to \" + str(pto))\n",
    "\n",
    "        if pfrom == pto:\n",
    "            selfpoint+= 1\n",
    "\n",
    "        i+= 1\n",
    "\n",
    "    return selfpoint"
   ]
  },
  {
   "cell_type": "code",
   "execution_count": 11,
   "id": "826d5221-8e10-4456-86ce-22cc2696d0d4",
   "metadata": {},
   "outputs": [],
   "source": [
    "dataset = np.zeros(100)\n",
    "\n",
    "for i in range(len(dataset)):\n",
    "    dataset[i] = network_gen(500, 400)"
   ]
  },
  {
   "cell_type": "code",
   "execution_count": 14,
   "id": "06d24da9-e171-4d0f-86e3-d704d1d7354d",
   "metadata": {},
   "outputs": [
    {
     "name": "stdout",
     "output_type": "stream",
     "text": [
      "mean: 1.27\n",
      "standard deviation: 1.0756858277396797\n"
     ]
    }
   ],
   "source": [
    "print(\"mean: \" + str(np.mean(dataset)))\n",
    "print(\"standard deviation: \" + str(np.std(dataset)))"
   ]
  },
  {
   "cell_type": "markdown",
   "id": "c2b94e03-30e0-40c2-bcd6-195ae8a81976",
   "metadata": {},
   "source": [
    "$\\text{For Alon } 2.1: $"
   ]
  },
  {
   "cell_type": "code",
   "execution_count": 18,
   "id": "f33b5832-6077-4ed0-9e1c-b361c920b877",
   "metadata": {},
   "outputs": [],
   "source": [
    "#Alon 2.2\n",
    "def mer_network_gen(arrows, nodes, n1):\n",
    "    i = 0\n",
    "    selfpoint = 0\n",
    "    while i < arrows:\n",
    "        #range that can generate arrows is n1\n",
    "        pfrom = random.choice(range(n1))\n",
    "        \n",
    "        #can point to any node available\n",
    "        pto = random.choice(range(nodes))\n",
    "\n",
    "        if pfrom == pto:\n",
    "            selfpoint+= 1\n",
    "\n",
    "        i+= 1\n",
    "\n",
    "    return selfpoint"
   ]
  },
  {
   "cell_type": "code",
   "execution_count": 19,
   "id": "e64b3170-a2d6-4305-9f37-8d39f7d0f8b5",
   "metadata": {},
   "outputs": [],
   "source": [
    "dataset_mer = np.zeros(100)\n",
    "\n",
    "for i in range(len(dataset_mer)):\n",
    "    dataset_mer[i] = mer_network_gen(500, 400, 100)"
   ]
  },
  {
   "cell_type": "code",
   "execution_count": 20,
   "id": "30b40dcc-00ea-44d7-994e-58c47b874477",
   "metadata": {},
   "outputs": [
    {
     "name": "stdout",
     "output_type": "stream",
     "text": [
      "mean: 1.41\n",
      "standard deviation: 1.3348782716038192\n"
     ]
    }
   ],
   "source": [
    "print(\"mean: \" + str(np.mean(dataset_mer)))\n",
    "print(\"standard deviation: \" + str(np.std(dataset_mer)))"
   ]
  },
  {
   "cell_type": "code",
   "execution_count": null,
   "id": "0722435f-7d88-4573-a48f-1d8dba596a2d",
   "metadata": {},
   "outputs": [],
   "source": []
  },
  {
   "cell_type": "markdown",
   "id": "26f2ecc0-12e8-47ee-835c-377dafaddc16",
   "metadata": {},
   "source": [
    "## Problem 2\n",
    "\n",
    "Complete Exercise 2.4 in Alon. Note that mathematically finding the steady state for \n",
    "\n",
    "$$\\frac{dX}{dt} = \\frac{\\beta}{1+\\frac{X^n}{K^n}} - \\alpha X \\tag{1} $$\n",
    "\n",
    "is quite difficult, so you can assume the approximation of strong autorepression, where\n",
    "\n",
    "$$\\frac{dX}{dt} = \\frac{\\beta K^n}{X^n} - \\alpha X. \\tag{2}$$  \n",
    "\n",
    "Use this approximate form to find the steady-state and explore its sensitivity to $\\beta$ as directed in the book problem."
   ]
  },
  {
   "cell_type": "markdown",
   "id": "7fae5a8c-d4eb-45c4-8ab3-92ae19987603",
   "metadata": {},
   "source": [
    "$\\text{We know that steady state will occur when } \\frac{dX}{dt} \\text{ is 0. By doing so, we can start to isolate X.}$\n",
    "\n",
    "$$0 = \\frac{\\beta K^n}{X^n} - \\alpha X$$\n",
    "\n",
    "$$X^n(\\alpha X) = \\beta K^n$$\n",
    "\n",
    "$$X^{n+1} = \\frac{\\beta K^n}{\\alpha}$$\n",
    "\n",
    "$$X = \\sqrt[n+1]\\frac{\\beta K^n}{\\alpha}$$"
   ]
  },
  {
   "cell_type": "markdown",
   "id": "4a5a8921-ac66-497a-8f03-c2d4ab30df5d",
   "metadata": {},
   "source": [
    "## Problem 3\n",
    "\n",
    "Continuing your exploration of Exercise 2.4, graphically explore the idea of the sensitivity of the steady-state with respect to $\\beta$ as a result of changing $n$. \n",
    "\n",
    "Make plots akin to those seen in Figure 2.10 and Figure 2.11, this time where removal is held constant and $\\beta$ is varied $\\pm$ 10%. Make one version of the plot where $n=4$ and one version where $n=0$. Use your plots to validate that the change in the steady-state upon changing $\\beta$ is in fact smaller when $n$ is larger.   "
   ]
  },
  {
   "cell_type": "code",
   "execution_count": null,
   "id": "2f93e7e1-f056-4b64-9aa1-a92b0854d7c8",
   "metadata": {},
   "outputs": [],
   "source": []
  }
 ],
 "metadata": {
  "kernelspec": {
   "display_name": "Python 3 (ipykernel)",
   "language": "python",
   "name": "python3"
  },
  "language_info": {
   "codemirror_mode": {
    "name": "ipython",
    "version": 3
   },
   "file_extension": ".py",
   "mimetype": "text/x-python",
   "name": "python",
   "nbconvert_exporter": "python",
   "pygments_lexer": "ipython3",
   "version": "3.9.12"
  }
 },
 "nbformat": 4,
 "nbformat_minor": 5
}
