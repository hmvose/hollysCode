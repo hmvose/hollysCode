{
 "cells": [
  {
   "cell_type": "code",
   "execution_count": 3,
   "id": "ac510a7b-70d3-4220-83b6-7046190366c8",
   "metadata": {},
   "outputs": [],
   "source": [
    "import matplotlib.pyplot as plt\n",
    "import numpy as np\n",
    "import random\n",
    "import math\n",
    "import seaborn as sns\n",
    "sns.set()"
   ]
  },
  {
   "cell_type": "code",
   "execution_count": 50,
   "id": "3d192072-8c14-4d54-b2d7-d745e05525aa",
   "metadata": {},
   "outputs": [],
   "source": [
    "beta = 100\n",
    "alpha = 0.5\n",
    "alphalow = 0.4\n",
    "alphahigh = 0.6\n",
    "K = 1\n",
    "n = 4\n",
    "\n",
    "x = np.linspace(0,10,50)\n",
    "y = beta*K**n/(K**n + x**n)\n",
    "degm = x*alpha\n",
    "deg1 = x*alphalow\n",
    "deg2 = x*alphahigh"
   ]
  },
  {
   "cell_type": "code",
   "execution_count": 51,
   "id": "ac3510d4-a729-4503-b7c4-f4c5998f043b",
   "metadata": {},
   "outputs": [
    {
     "data": {
      "text/plain": [
       "(0.0, 4.0)"
      ]
     },
     "execution_count": 51,
     "metadata": {},
     "output_type": "execute_result"
    },
    {
     "data": {
      "image/png": "[encoded data removed]",
      "text/plain": [
       "<Figure size 432x288 with 1 Axes>"
      ]
     },
     "metadata": {},
     "output_type": "display_data"
    }
   ],
   "source": [
    "plt.plot(x,y)\n",
    "plt.plot(x,degm, color='r')\n",
    "plt.plot(x,deg1, color='r')\n",
    "plt.plot(x,deg2,color='r')\n",
    "plt.xlim(2.5,3.5)\n",
    "plt.ylim(0,4)\n",
    "\n",
    "#this thing does NOT like to curve :("
   ]
  },
  {
   "cell_type": "code",
   "execution_count": 53,
   "id": "a32eb8e4-3f4b-4065-906c-841e425c1a65",
   "metadata": {},
   "outputs": [
    {
     "name": "stdout",
     "output_type": "stream",
     "text": [
      "Middle Steady State: 2.857142857142857\n",
      "Low Steady State: 3.0612244897959187\n",
      "High Steady State: 2.857142857142857\n"
     ]
    }
   ],
   "source": [
    "lowest_diff = np.inf\n",
    "steady_state = 0\n",
    "num = 0\n",
    "while num < 50:\n",
    "    if np.abs(y[num] - degm[num]) < lowest_diff:\n",
    "        steady_state = x[num]\n",
    "        lowest_diff = np.abs(y[num] - degm[num])\n",
    "    num += 1\n",
    "print(\"Middle Steady State: \" + str(steady_state))\n",
    "\n",
    "lowest_diff = np.inf\n",
    "steady_state_low = 0\n",
    "num = 0\n",
    "while num < 50:\n",
    "    if np.abs(y[num] - deg1[num]) < lowest_diff:\n",
    "        steady_state_low = x[num]\n",
    "        lowest_diff = np.abs(y[num] - deg1[num])\n",
    "    num += 1\n",
    "print(\"Low Steady State: \" + str(steady_state_low))\n",
    "\n",
    "lowest_diff = np.inf\n",
    "steady_state_high = 0\n",
    "num = 0\n",
    "while num < 50:\n",
    "    if np.abs(y[num] - deg2[num]) < lowest_diff:\n",
    "        steady_state_high = x[num]\n",
    "        lowest_diff = np.abs(y[num] - deg2[num])\n",
    "    num += 1\n",
    "print(\"High Steady State: \" + str(steady_state_high))\n",
    "\n",
    "#ok idk why the high and middle are turning out the same, not enough time to troubleshoot."
   ]
  }
 ],
 "metadata": {
  "kernelspec": {
   "display_name": "Python 3 (ipykernel)",
   "language": "python",
   "name": "python3"
  },
  "language_info": {
   "codemirror_mode": {
    "name": "ipython",
    "version": 3
   },
   "file_extension": ".py",
   "mimetype": "text/x-python",
   "name": "python",
   "nbconvert_exporter": "python",
   "pygments_lexer": "ipython3",
   "version": "3.9.12"
  }
 },
 "nbformat": 4,
 "nbformat_minor": 5
}
