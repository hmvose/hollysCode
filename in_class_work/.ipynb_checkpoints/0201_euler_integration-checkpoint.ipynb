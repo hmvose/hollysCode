{
 "cells": [
  {
   "cell_type": "code",
   "execution_count": 1,
   "id": "e5acb9bd-e3e3-4888-9b91-4d4ff1221197",
   "metadata": {},
   "outputs": [],
   "source": [
    "import numpy as np\n",
    "import matplotlib.pyplot as plt\n",
    "\n",
    "import seaborn as sns\n",
    "sns.set()"
   ]
  },
  {
   "cell_type": "markdown",
   "id": "974919cf-a82b-4473-a787-dd64415ff399",
   "metadata": {},
   "source": [
    "Let's consider our model for auto-regulation again.\n",
    "\n",
    "$$\\frac{dX}{dt} = \\frac{\\beta}{1+\\frac{X^n}{K^n}} - \\alpha X \\tag{1} $$\n",
    "\n",
    "As a reminder, $dX/dt$ defines a slope, or an expected amount of change in the variable $X$. So if we are interested in determining how $X$ will change over *time*, we can use the expected slope as a way to predict where $X$ will be in the future time point $t + \\Delta t$. Concretely in mathematical terms, this looks like:\n",
    "\n",
    "$$X(t+\\Delta t) = X(t) + \\left( \\frac{\\beta}{1+\\frac{X(t)^n}{K^n}} - \\alpha X(t) \\right) \\Delta t \\tag{1} $$"
   ]
  },
  {
   "cell_type": "code",
   "execution_count": 3,
   "id": "34169822-6bed-4a4b-a7f1-cb6021adb519",
   "metadata": {},
   "outputs": [],
   "source": [
    "Beta = 10 # per min \n",
    "alpha = 1\n",
    "K = 1000 # per cell \n",
    "n = 2"
   ]
  },
  {
   "cell_type": "code",
   "execution_count": 4,
   "id": "7d6e9c31-9d58-4e4c-a0a6-85a672a24e17",
   "metadata": {},
   "outputs": [
    {
     "data": {
      "text/plain": [
       "[<matplotlib.lines.Line2D at 0x2101404f7c0>]"
      ]
     },
     "execution_count": 4,
     "metadata": {},
     "output_type": "execute_result"
    },
    {
     "data": {
      "image/png": "[encoded data removed]",
      "text/plain": [
       "<Figure size 432x288 with 1 Axes>"
      ]
     },
     "metadata": {},
     "output_type": "display_data"
    }
   ],
   "source": [
    "X = np.zeros(100)\n",
    "dt = 0.1 # min\n",
    "\n",
    "for i in range(len(X)-1):\n",
    "    dX = (Beta / (1 + (X[i]**n/K**n))) - alpha*X[i]\n",
    "    X[i+1] = X[i] + dX*dt\n",
    "    \n",
    "t = np.arange(len(X))*dt   \n",
    "plt.plot(t, X)"
   ]
  },
  {
   "cell_type": "code",
   "execution_count": null,
   "id": "3764c4d6-f72c-4393-afd6-cebb3f5c65c1",
   "metadata": {},
   "outputs": [],
   "source": []
  }
 ],
 "metadata": {
  "kernelspec": {
   "display_name": "Python 3 (ipykernel)",
   "language": "python",
   "name": "python3"
  },
  "language_info": {
   "codemirror_mode": {
    "name": "ipython",
    "version": 3
   },
   "file_extension": ".py",
   "mimetype": "text/x-python",
   "name": "python",
   "nbconvert_exporter": "python",
   "pygments_lexer": "ipython3",
   "version": "3.9.12"
  }
 },
 "nbformat": 4,
 "nbformat_minor": 5
}
