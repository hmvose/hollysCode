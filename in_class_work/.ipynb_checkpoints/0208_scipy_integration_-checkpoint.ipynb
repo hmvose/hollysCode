{
 "cells": [
  {
   "cell_type": "code",
   "execution_count": 1,
   "id": "e5acb9bd-e3e3-4888-9b91-4d4ff1221197",
   "metadata": {},
   "outputs": [
    {
     "name": "stderr",
     "output_type": "stream",
     "text": [
      "\n",
      "Bad key text.latex.preview in file /Users/sbeeler/anaconda3/lib/python3.7/site-packages/matplotlib/mpl-data/stylelib/_classic_test.mplstyle, line 123 ('text.latex.preview : False')\n",
      "You probably need to get an updated matplotlibrc file from\n",
      "https://github.com/matplotlib/matplotlib/blob/v3.5.2/matplotlibrc.template\n",
      "or from the matplotlib source distribution\n",
      "\n",
      "Bad key mathtext.fallback_to_cm in file /Users/sbeeler/anaconda3/lib/python3.7/site-packages/matplotlib/mpl-data/stylelib/_classic_test.mplstyle, line 155 ('mathtext.fallback_to_cm : True  # When True, use symbols from the Computer Modern')\n",
      "You probably need to get an updated matplotlibrc file from\n",
      "https://github.com/matplotlib/matplotlib/blob/v3.5.2/matplotlibrc.template\n",
      "or from the matplotlib source distribution\n",
      "\n",
      "Bad key savefig.jpeg_quality in file /Users/sbeeler/anaconda3/lib/python3.7/site-packages/matplotlib/mpl-data/stylelib/_classic_test.mplstyle, line 418 ('savefig.jpeg_quality: 95       # when a jpeg is saved, the default quality parameter.')\n",
      "You probably need to get an updated matplotlibrc file from\n",
      "https://github.com/matplotlib/matplotlib/blob/v3.5.2/matplotlibrc.template\n",
      "or from the matplotlib source distribution\n",
      "\n",
      "Bad key savefig.frameon in file /Users/sbeeler/anaconda3/lib/python3.7/site-packages/matplotlib/mpl-data/stylelib/_classic_test.mplstyle, line 421 ('savefig.frameon : True')\n",
      "You probably need to get an updated matplotlibrc file from\n",
      "https://github.com/matplotlib/matplotlib/blob/v3.5.2/matplotlibrc.template\n",
      "or from the matplotlib source distribution\n",
      "\n",
      "Bad key verbose.level in file /Users/sbeeler/anaconda3/lib/python3.7/site-packages/matplotlib/mpl-data/stylelib/_classic_test.mplstyle, line 472 ('verbose.level  : silent      # one of silent, helpful, debug, debug-annoying')\n",
      "You probably need to get an updated matplotlibrc file from\n",
      "https://github.com/matplotlib/matplotlib/blob/v3.5.2/matplotlibrc.template\n",
      "or from the matplotlib source distribution\n",
      "\n",
      "Bad key verbose.fileo in file /Users/sbeeler/anaconda3/lib/python3.7/site-packages/matplotlib/mpl-data/stylelib/_classic_test.mplstyle, line 473 ('verbose.fileo  : sys.stdout  # a log filename, sys.stdout or sys.stderr')\n",
      "You probably need to get an updated matplotlibrc file from\n",
      "https://github.com/matplotlib/matplotlib/blob/v3.5.2/matplotlibrc.template\n",
      "or from the matplotlib source distribution\n",
      "\n",
      "Bad key keymap.all_axes in file /Users/sbeeler/anaconda3/lib/python3.7/site-packages/matplotlib/mpl-data/stylelib/_classic_test.mplstyle, line 490 ('keymap.all_axes : a                 # enable all axes')\n",
      "You probably need to get an updated matplotlibrc file from\n",
      "https://github.com/matplotlib/matplotlib/blob/v3.5.2/matplotlibrc.template\n",
      "or from the matplotlib source distribution\n",
      "\n",
      "Bad key animation.avconv_path in file /Users/sbeeler/anaconda3/lib/python3.7/site-packages/matplotlib/mpl-data/stylelib/_classic_test.mplstyle, line 501 ('animation.avconv_path: avconv     # Path to avconv binary. Without full path')\n",
      "You probably need to get an updated matplotlibrc file from\n",
      "https://github.com/matplotlib/matplotlib/blob/v3.5.2/matplotlibrc.template\n",
      "or from the matplotlib source distribution\n",
      "\n",
      "Bad key animation.avconv_args in file /Users/sbeeler/anaconda3/lib/python3.7/site-packages/matplotlib/mpl-data/stylelib/_classic_test.mplstyle, line 503 ('animation.avconv_args:            # Additional arguments to pass to avconv')\n",
      "You probably need to get an updated matplotlibrc file from\n",
      "https://github.com/matplotlib/matplotlib/blob/v3.5.2/matplotlibrc.template\n",
      "or from the matplotlib source distribution\n"
     ]
    }
   ],
   "source": [
    "import numpy as np\n",
    "import matplotlib.pyplot as plt\n",
    "\n",
    "# for numerical inegration\n",
    "import scipy.integrate\n",
    "\n",
    "import seaborn as sns\n",
    "sns.set()"
   ]
  },
  {
   "cell_type": "markdown",
   "id": "974919cf-a82b-4473-a787-dd64415ff399",
   "metadata": {},
   "source": [
    "Let's consider our model for auto-regulation again.\n",
    "\n",
    "$$\\frac{dX}{dt} = \\frac{\\beta}{1+\\frac{X^n}{K^n}} - \\alpha X \\tag{1} $$\n",
    "\n",
    "As a reminder, $dX/dt$ defines a slope, or an expected amount of change in the variable $X$. So if we are interested in determining how $X$ will change over *time*, we can use the expected slope as a way to predict where $X$ will be in the future time point $t + \\Delta t$. Concretely in mathematical terms, this looks like:\n",
    "\n",
    "$$X(t+\\Delta t) = X(t) + \\left( \\frac{\\beta}{1+\\frac{X(t)^n}{K^n}} - \\alpha X(t) \\right) \\Delta t \\tag{2} $$"
   ]
  },
  {
   "cell_type": "code",
   "execution_count": 2,
   "id": "34169822-6bed-4a4b-a7f1-cb6021adb519",
   "metadata": {},
   "outputs": [],
   "source": [
    "Beta = 10 # per min \n",
    "alpha = 1 # per transcript per min\n",
    "K = 5 # per cell \n",
    "n = 2"
   ]
  },
  {
   "cell_type": "markdown",
   "id": "e59edeb6-8851-4932-9455-1dcd8cb7ce12",
   "metadata": {},
   "source": [
    "Below I explore the role that changing $\\Delta t$ has. "
   ]
  },
  {
   "cell_type": "code",
   "execution_count": 3,
   "id": "7d6e9c31-9d58-4e4c-a0a6-85a672a24e17",
   "metadata": {},
   "outputs": [
    {
     "data": {
      "text/plain": [
       "Text(0, 0.5, 'copy number of X per cell')"
      ]
     },
     "execution_count": 3,
     "metadata": {},
     "output_type": "execute_result"
    },
    {
     "data": {
      "image/png": "[encoded data removed]",
      "text/plain": [
       "<Figure size 432x288 with 1 Axes>"
      ]
     },
     "metadata": {
      "needs_background": "light"
     },
     "output_type": "display_data"
    }
   ],
   "source": [
    "X = np.zeros(500)\n",
    "dt = 0.01 # min\n",
    "\n",
    "for t in range(len(X)-1):\n",
    "    dX = Beta / (1 + X[t]**n/K**n) - alpha * X[t]\n",
    "    X[t+1] = X[t] + dX*dt\n",
    "    \n",
    "t = np.arange(len(X))*dt   \n",
    "plt.plot(t, X)\n",
    "\n",
    "\n",
    "X = np.zeros(50)\n",
    "dt = 0.1 # min\n",
    "\n",
    "for t in range(len(X)-1):\n",
    "    dX = Beta / (1 + X[t]**n/K**n) - alpha * X[t]\n",
    "    X[t+1] = X[t] + dX*dt\n",
    "    \n",
    "t = np.arange(len(X))*dt   \n",
    "plt.plot(t, X)\n",
    "\n",
    "\n",
    "X = np.zeros(25)\n",
    "dt = 0.2 # min\n",
    "\n",
    "for t in range(len(X)-1):\n",
    "    dX = Beta / (1 + X[t]**n/K**n) - alpha * X[t]\n",
    "    X[t+1] = X[t] + dX*dt\n",
    "    \n",
    "t = np.arange(len(X))*dt   \n",
    "plt.plot(t, X)\n",
    "\n",
    "\n",
    "X = np.zeros(6)\n",
    "dt = 1 # min\n",
    "\n",
    "for t in range(len(X)-1):\n",
    "    dX = Beta / (1 + X[t]**n/K**n) - alpha * X[t]\n",
    "    X[t+1] = X[t] + dX*dt\n",
    "    \n",
    "t = np.arange(len(X))*dt   \n",
    "plt.plot(t, X)\n",
    "\n",
    "plt.legend([\"dt = 0.01\",\"dt = 0.1\", \"dt = 0.2\", \"dt = 1\"])\n",
    "plt.xlabel(\"time (mins)\")\n",
    "plt.ylabel(\"copy number of X per cell\")"
   ]
  },
  {
   "cell_type": "markdown",
   "id": "f0837d16-6b3e-4a9c-960d-d88591717468",
   "metadata": {},
   "source": [
    "## Scipy integration version:\n",
    "\n",
    "First we define a function for the right-hand side (RHS) of our differential equation:"
   ]
  },
  {
   "cell_type": "code",
   "execution_count": 4,
   "id": "08766640-ed0d-4b9d-81fe-0c9d48aac459",
   "metadata": {},
   "outputs": [],
   "source": [
    "def auto_regulation_rhs(x, t, Beta, K, alpha):\n",
    "    \"\"\" Right hand side for autoregualtion \"\"\"\n",
    "    \n",
    "    # Compute dx/dt\n",
    "    dx_dt = Beta / (1 + x**n/K**n) - alpha * x\n",
    "\n",
    "    # Return the result as a NumPy array\n",
    "    return np.array(dx_dt)"
   ]
  },
  {
   "cell_type": "markdown",
   "id": "df39388b-54b8-439e-be4c-d69a556751d4",
   "metadata": {},
   "source": [
    "Next we specify all the pieces we’ll need for the actual integration:\n",
    "\n",
    "- The time points we want to integrate over\n",
    "- The initial condition of our system\n",
    "- The values of any of our parameters\n",
    "\n",
    "We can then call our `scipy.integrat.odeint` fucntion which takes the following input in turn:\n",
    "\n",
    "- The function that specifies our RHS equations, `auto_regulation_rhs` in this case\n",
    "- Our array of the initial conditions, x_0\n",
    "- The array of time values, t\n",
    "- And args, a tuple containing all of our parameters"
   ]
  },
  {
   "cell_type": "code",
   "execution_count": 5,
   "id": "43f9bf92-49ec-4fe5-bc2d-506c5b19c022",
   "metadata": {},
   "outputs": [],
   "source": [
    "# Time points we want for the solution\n",
    "t = np.linspace(0,5,1000)\n",
    "\n",
    "# Initial conditions\n",
    "x_0 = np.array([0])\n",
    "\n",
    "# Package parameters into a tuple\n",
    "args = (Beta, K, alpha)\n",
    "\n",
    "# Integrate ODES\n",
    "x = scipy.integrate.odeint(auto_regulation_rhs, x_0, t, args=args)"
   ]
  },
  {
   "cell_type": "markdown",
   "id": "53d3f056-ec6d-4343-a67c-add459b89207",
   "metadata": {},
   "source": [
    "Lastly, let's plot the results:"
   ]
  },
  {
   "cell_type": "code",
   "execution_count": 6,
   "id": "3d93da5a-726b-4adc-b6b7-98ed6c887657",
   "metadata": {},
   "outputs": [
    {
     "data": {
      "image/png": "[encoded data removed]",
      "text/plain": [
       "<Figure size 432x288 with 1 Axes>"
      ]
     },
     "metadata": {
      "needs_background": "light"
     },
     "output_type": "display_data"
    }
   ],
   "source": [
    "plt.plot(t, x)\n",
    "plt.xlabel(\"time (mins)\")\n",
    "plt.ylabel(\"copy number of X per cell\");"
   ]
  },
  {
   "cell_type": "markdown",
   "id": "7ee21f3f-f4a3-434d-891b-2ff904545f72",
   "metadata": {},
   "source": [
    "## Autoregulation vs. simple regulation \n",
    "\n",
    "Remember that simple regulation was described as:\n",
    "\n",
    "$$\\frac{dX}{dt} = \\beta - \\alpha X \\tag{3}$$\n",
    "\n",
    "Below, use `scipy` to integrate Equation (3). Plot both results (autoregulation vs. simple regulation) on the same graph. Can you validate what was seen from Figure 2.6 in Alon? As a tip, you will want to change the value of $\\beta$ so that the two models have the same steady state and will be more directly comparable."
   ]
  },
  {
   "cell_type": "code",
   "execution_count": null,
   "id": "3764c4d6-f72c-4393-afd6-cebb3f5c65c1",
   "metadata": {},
   "outputs": [],
   "source": []
  },
  {
   "cell_type": "markdown",
   "id": "53e8c36e-6641-4872-8f4a-a48eb34e82cf",
   "metadata": {},
   "source": [
    "## Modeling a C1-FFL\n",
    "\n",
    "### (a)\n",
    "\n",
    "First specify the values of X over time, with a short pulse and a long pulse built in, like that in Figure 3.11 in Alon. Plot your resulting array to make sure that you've encoded this information correctly. "
   ]
  },
  {
   "cell_type": "code",
   "execution_count": 7,
   "id": "63b9d498-dd9e-4aff-8759-c16b542bcf06",
   "metadata": {},
   "outputs": [
    {
     "data": {
      "text/plain": [
       "Text(0, 0.5, 'X concentration')"
      ]
     },
     "execution_count": 7,
     "metadata": {},
     "output_type": "execute_result"
    },
    {
     "data": {
      "image/png": "[encoded data removed]",
      "text/plain": [
       "<Figure size 432x288 with 1 Axes>"
      ]
     },
     "metadata": {
      "needs_background": "light"
     },
     "output_type": "display_data"
    }
   ],
   "source": [
    "X = np.zeros(200)\n",
    "X[20:30] = 10\n",
    "X[120:180] = 10\n",
    "plt.plot(X)\n",
    "plt.xlabel(\"time (arbitrary units)\")\n",
    "plt.ylabel(\"X concentration\")"
   ]
  },
  {
   "cell_type": "markdown",
   "id": "d1312f1f-cd77-4251-b33c-8243351160e0",
   "metadata": {},
   "source": [
    "### (b)\n",
    "\n",
    "Specify the two differential equations of the C1-FFL below. The production of $Y$ should be modeled as an activating Hill function that depends on $X$. The production of $Z$ should be modeled as an activating Hill function that depends on $X$ **times** and activating Hill function that depends on $Y$. Be able to explain why this acts as the desired \"AND\" gate.\n",
    "\n",
    "$$\\frac{dY}{dt} = \\beta_Y \\frac{X^n}{K_{XY}^n + X^n} - \\alpha_Y Y $$\n",
    "\n",
    "Below, explain what each parameter is:\n",
    "\n",
    "- $\\beta_Y$:\n",
    "- $K_{XY}$:\n",
    "- $\\alpha_Y$:\n",
    "\n",
    "$$\\frac{dZ}{dt} = \\beta_Z \\frac{X^n}{K_{XZ}^n + X^n} \\frac{Y^n}{K_{YZ}^n + Y^n} - \\alpha_Z Z $$\n",
    "\n",
    "Below, explain what each parameter is:\n",
    "\n",
    "- $\\beta_Z$:\n",
    "- $K_{XZ}$:\n",
    "- $K_{YZ}$:\n",
    "- $\\alpha_Z$:"
   ]
  },
  {
   "cell_type": "markdown",
   "id": "27049af6-cbaa-426d-9ccd-35ed6a896e6b",
   "metadata": {},
   "source": [
    "### (c)\n",
    "\n",
    "Use Euler to integrate both $Y$ and $Z$ over time. Keep in mind that their behavior will depend on the values of the $X$ array you set up in part (a)! As a challenge, you can also try to integrate this with `scipy`, although this is a bit trickier since there is not only a time array, but also the array of $X$ values upon which $Y$ and $Z$ depend. "
   ]
  },
  {
   "cell_type": "code",
   "execution_count": null,
   "id": "61bdb79c-ea31-40b5-b618-3d676fc2b16c",
   "metadata": {},
   "outputs": [],
   "source": []
  }
 ],
 "metadata": {
  "kernelspec": {
   "display_name": "Python 3 (ipykernel)",
   "language": "python",
   "name": "python3"
  },
  "language_info": {
   "codemirror_mode": {
    "name": "ipython",
    "version": 3
   },
   "file_extension": ".py",
   "mimetype": "text/x-python",
   "name": "python",
   "nbconvert_exporter": "python",
   "pygments_lexer": "ipython3",
   "version": "3.7.13"
  }
 },
 "nbformat": 4,
 "nbformat_minor": 5
}
