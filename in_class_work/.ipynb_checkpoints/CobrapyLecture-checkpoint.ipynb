{
 "cells": [
  {
   "cell_type": "code",
   "execution_count": 1,
   "id": "bd70d839-05ab-4703-9e91-02ab729d8f5d",
   "metadata": {},
   "outputs": [],
   "source": [
    "# Import Cobrapy package\n",
    "import cobra\n",
    "\n",
    "import numpy as np\n",
    "import matplotlib.pyplot as plt"
   ]
  },
  {
   "cell_type": "code",
   "execution_count": 2,
   "id": "40ad8d41-b592-4486-a93e-2b7dd1aa772a",
   "metadata": {},
   "outputs": [],
   "source": [
    "# Model is SBML file, read it\n",
    "model = cobra.io.read_sbml_model(\"iJR904.xml\")"
   ]
  },
  {
   "cell_type": "code",
   "execution_count": 3,
   "id": "a55c0411-f715-4337-906e-a3dd5f85ff19",
   "metadata": {},
   "outputs": [
    {
     "name": "stderr",
     "output_type": "stream",
     "text": [
      "C:\\Users\\hmvos\\anaconda3\\lib\\site-packages\\cobra\\util\\solver.py:554: UserWarning: Solver status is 'infeasible'.\n",
      "  warn(f\"Solver status is '{status}'.\", UserWarning)\n"
     ]
    },
    {
     "data": {
      "text/html": [
       "<strong><em>infeasible</em> solution</strong>"
      ],
      "text/plain": [
       "<Solution infeasible at 0x279dec93880>"
      ]
     },
     "execution_count": 3,
     "metadata": {},
     "output_type": "execute_result"
    }
   ],
   "source": [
    "# Set the amount of extracellular glucose to be 0\n",
    "model.reactions.EX_glc__D_e.bounds = (0, 0)\n",
    "\n",
    "# Try to optimize, but you can't\n",
    "model.optimize()"
   ]
  },
  {
   "cell_type": "code",
   "execution_count": 4,
   "id": "8f81c560-cf30-46f6-a5e9-2e50735c01d8",
   "metadata": {},
   "outputs": [
    {
     "data": {
      "text/html": [
       "<strong><em>Optimal</em> solution with objective value 0.189</strong><br><div>\n",
       "<style scoped>\n",
       "    .dataframe tbody tr th:only-of-type {\n",
       "        vertical-align: middle;\n",
       "    }\n",
       "\n",
       "    .dataframe tbody tr th {\n",
       "        vertical-align: top;\n",
       "    }\n",
       "\n",
       "    .dataframe thead th {\n",
       "        text-align: right;\n",
       "    }\n",
       "</style>\n",
       "<table border=\"1\" class=\"dataframe\">\n",
       "  <thead>\n",
       "    <tr style=\"text-align: right;\">\n",
       "      <th></th>\n",
       "      <th>fluxes</th>\n",
       "      <th>reduced_costs</th>\n",
       "    </tr>\n",
       "  </thead>\n",
       "  <tbody>\n",
       "    <tr>\n",
       "      <th>ALATA_L2</th>\n",
       "      <td>0.000000</td>\n",
       "      <td>1.535809e-17</td>\n",
       "    </tr>\n",
       "    <tr>\n",
       "      <th>ALAabc</th>\n",
       "      <td>0.000000</td>\n",
       "      <td>-5.965324e-03</td>\n",
       "    </tr>\n",
       "    <tr>\n",
       "      <th>ALAt2r</th>\n",
       "      <td>0.000000</td>\n",
       "      <td>0.000000e+00</td>\n",
       "    </tr>\n",
       "    <tr>\n",
       "      <th>ALCD19</th>\n",
       "      <td>0.000000</td>\n",
       "      <td>7.258913e-17</td>\n",
       "    </tr>\n",
       "    <tr>\n",
       "      <th>ALDD19xr</th>\n",
       "      <td>0.000000</td>\n",
       "      <td>5.941428e-17</td>\n",
       "    </tr>\n",
       "    <tr>\n",
       "      <th>...</th>\n",
       "      <td>...</td>\n",
       "      <td>...</td>\n",
       "    </tr>\n",
       "    <tr>\n",
       "      <th>SHSL1</th>\n",
       "      <td>0.027522</td>\n",
       "      <td>-2.580401e-17</td>\n",
       "    </tr>\n",
       "    <tr>\n",
       "      <th>SOTA</th>\n",
       "      <td>0.000000</td>\n",
       "      <td>-2.775558e-17</td>\n",
       "    </tr>\n",
       "    <tr>\n",
       "      <th>SPMDAT1</th>\n",
       "      <td>0.000000</td>\n",
       "      <td>-5.587520e-01</td>\n",
       "    </tr>\n",
       "    <tr>\n",
       "      <th>SPMDAT2</th>\n",
       "      <td>0.000000</td>\n",
       "      <td>-5.587520e-01</td>\n",
       "    </tr>\n",
       "    <tr>\n",
       "      <th>SPMDabc</th>\n",
       "      <td>0.000000</td>\n",
       "      <td>0.000000e+00</td>\n",
       "    </tr>\n",
       "  </tbody>\n",
       "</table>\n",
       "<p>1075 rows × 2 columns</p>\n",
       "</div>"
      ],
      "text/plain": [
       "<Solution 0.189 at 0x279d7fd7be0>"
      ]
     },
     "execution_count": 4,
     "metadata": {},
     "output_type": "execute_result"
    }
   ],
   "source": [
    "# Now add some glycine uptake\n",
    "model.reactions.EX_gly_e.bounds = (-20, 0)\n",
    "model.optimize()"
   ]
  },
  {
   "cell_type": "code",
   "execution_count": 5,
   "id": "fd388302-4a41-4881-a93d-1b42eefcc652",
   "metadata": {},
   "outputs": [
    {
     "data": {
      "text/html": [
       "\n",
       "        <table>\n",
       "            <tr>\n",
       "                <td><strong>Reaction identifier</strong></td><td>GRD</td>\n",
       "            </tr><tr>\n",
       "                <td><strong>Name</strong></td><td>Glycine Reductase Degradation</td>\n",
       "            </tr><tr>\n",
       "                <td><strong>Memory address</strong></td>\n",
       "                <td>0x279ded65dc0</td>\n",
       "            </tr><tr>\n",
       "                <td><strong>Stoichiometry</strong></td>\n",
       "                <td>\n",
       "                    <p style='text-align:right'>gly_c + h_c + nh4_c + pi_c + trdrd_c --> actp_c + h2o_c + trdox_c</p>\n",
       "                    <p style='text-align:right'>Glycine + H+ + Ammonium + Phosphate + Reduced thioredoxin --> Acetyl phosphate + H2O H2O + Oxidized thioredoxin</p>\n",
       "                </td>\n",
       "            </tr><tr>\n",
       "                <td><strong>GPR</strong></td><td></td>\n",
       "            </tr><tr>\n",
       "                <td><strong>Lower bound</strong></td><td>0.0</td>\n",
       "            </tr><tr>\n",
       "                <td><strong>Upper bound</strong></td><td>1000.0</td>\n",
       "            </tr>\n",
       "        </table>\n",
       "        "
      ],
      "text/plain": [
       "<Reaction GRD at 0x279ded65dc0>"
      ]
     },
     "execution_count": 5,
     "metadata": {},
     "output_type": "execute_result"
    }
   ],
   "source": [
    "# Let's add a reaction that would help the cell use glycine\n",
    "# Glycine Reductase\n",
    "gly_rxn = cobra.Reaction('GRD')\n",
    "gly_rxn.name = 'Glycine Reductase Degradation'\n",
    "model.add_reactions([gly_rxn])\n",
    "\n",
    "gly_rxn.add_metabolites({\n",
    "    'gly_c':-1,\n",
    "    'trdox_c':1,\n",
    "    'trdrd_c':-1,\n",
    "    'h_c':-1,\n",
    "    'pi_c':-1,\n",
    "    'nh4_c':-1,\n",
    "    'h2o_c':1,\n",
    "    'actp_c':1\n",
    "})\n",
    "\n",
    "model.reactions.GRD"
   ]
  },
  {
   "cell_type": "code",
   "execution_count": 6,
   "id": "269e8ef9-5d9a-4ca1-b60f-4bb4a508d506",
   "metadata": {},
   "outputs": [
    {
     "data": {
      "text/html": [
       "<strong><em>Optimal</em> solution with objective value 0.363</strong><br><div>\n",
       "<style scoped>\n",
       "    .dataframe tbody tr th:only-of-type {\n",
       "        vertical-align: middle;\n",
       "    }\n",
       "\n",
       "    .dataframe tbody tr th {\n",
       "        vertical-align: top;\n",
       "    }\n",
       "\n",
       "    .dataframe thead th {\n",
       "        text-align: right;\n",
       "    }\n",
       "</style>\n",
       "<table border=\"1\" class=\"dataframe\">\n",
       "  <thead>\n",
       "    <tr style=\"text-align: right;\">\n",
       "      <th></th>\n",
       "      <th>fluxes</th>\n",
       "      <th>reduced_costs</th>\n",
       "    </tr>\n",
       "  </thead>\n",
       "  <tbody>\n",
       "    <tr>\n",
       "      <th>ALATA_L2</th>\n",
       "      <td>0.000000</td>\n",
       "      <td>1.535809e-17</td>\n",
       "    </tr>\n",
       "    <tr>\n",
       "      <th>ALAabc</th>\n",
       "      <td>0.000000</td>\n",
       "      <td>-6.409370e-03</td>\n",
       "    </tr>\n",
       "    <tr>\n",
       "      <th>ALAt2r</th>\n",
       "      <td>0.000000</td>\n",
       "      <td>0.000000e+00</td>\n",
       "    </tr>\n",
       "    <tr>\n",
       "      <th>ALCD19</th>\n",
       "      <td>0.000000</td>\n",
       "      <td>-9.338099e-17</td>\n",
       "    </tr>\n",
       "    <tr>\n",
       "      <th>ALDD19xr</th>\n",
       "      <td>0.000000</td>\n",
       "      <td>5.551115e-17</td>\n",
       "    </tr>\n",
       "    <tr>\n",
       "      <th>...</th>\n",
       "      <td>...</td>\n",
       "      <td>...</td>\n",
       "    </tr>\n",
       "    <tr>\n",
       "      <th>SOTA</th>\n",
       "      <td>0.000000</td>\n",
       "      <td>0.000000e+00</td>\n",
       "    </tr>\n",
       "    <tr>\n",
       "      <th>SPMDAT1</th>\n",
       "      <td>0.000000</td>\n",
       "      <td>-4.774981e-01</td>\n",
       "    </tr>\n",
       "    <tr>\n",
       "      <th>SPMDAT2</th>\n",
       "      <td>0.000000</td>\n",
       "      <td>-4.774981e-01</td>\n",
       "    </tr>\n",
       "    <tr>\n",
       "      <th>SPMDabc</th>\n",
       "      <td>0.000000</td>\n",
       "      <td>0.000000e+00</td>\n",
       "    </tr>\n",
       "    <tr>\n",
       "      <th>GRD</th>\n",
       "      <td>8.552105</td>\n",
       "      <td>-2.949030e-16</td>\n",
       "    </tr>\n",
       "  </tbody>\n",
       "</table>\n",
       "<p>1076 rows × 2 columns</p>\n",
       "</div>"
      ],
      "text/plain": [
       "<Solution 0.363 at 0x279ded654f0>"
      ]
     },
     "execution_count": 6,
     "metadata": {},
     "output_type": "execute_result"
    }
   ],
   "source": [
    "model.optimize()"
   ]
  },
  {
   "cell_type": "code",
   "execution_count": 9,
   "id": "6179dcfc-20d8-4885-b9e7-29b612d70ba7",
   "metadata": {},
   "outputs": [],
   "source": [
    "uptake_values = np.linspace(2, 40, 100)\n",
    "growths_without_stickland = []\n",
    "growths_with_stickland = []\n",
    "\n",
    "# Measure the growth rates for a range of glycine uptake values with and without the Stickland reaction\n",
    "for uptake_value in uptake_values:\n",
    "    model.reactions.EX_gly_e.bounds = (-uptake_value, 0)\n",
    "    \n",
    "    # Growth rate measurements without the Stickland reaction\n",
    "    gly_rxn.bounds = (0, 0)\n",
    "    model.optimize()\n",
    "    growths_without_stickland.append(model.reactions.BIOMASS_Ecoli.flux)\n",
    "    \n",
    "    gly_rxn.bounds = (-99999, 99999)\n",
    "    model.optimize()\n",
    "    growths_with_stickland.append(model.reactions.BIOMASS_Ecoli.flux)"
   ]
  },
  {
   "cell_type": "code",
   "execution_count": 10,
   "id": "4de7d16a-501d-45b7-9292-a033cab45339",
   "metadata": {},
   "outputs": [
    {
     "data": {
      "image/png": "[encoded data removed]",
      "text/plain": [
       "<Figure size 432x288 with 1 Axes>"
      ]
     },
     "metadata": {
      "needs_background": "light"
     },
     "output_type": "display_data"
    }
   ],
   "source": [
    "# Plot the results\n",
    "plt.plot(uptake_values, growths_with_stickland, label=\"Genetically Modified\")\n",
    "plt.plot(uptake_values, growths_without_stickland, label=\"Unmodified\")\n",
    "\n",
    "plt.legend()\n",
    "plt.title(\"Growth rate of Ecoli with and without Stickland reaction modification\")\n",
    "plt.xlabel(\"Glycine Uptake (mmol/gDW-hr)\")\n",
    "plt.ylabel(\"Growth Rate (/hr)\");"
   ]
  }
 ],
 "metadata": {
  "kernelspec": {
   "display_name": "Python 3 (ipykernel)",
   "language": "python",
   "name": "python3"
  },
  "language_info": {
   "codemirror_mode": {
    "name": "ipython",
    "version": 3
   },
   "file_extension": ".py",
   "mimetype": "text/x-python",
   "name": "python",
   "nbconvert_exporter": "python",
   "pygments_lexer": "ipython3",
   "version": "3.9.12"
  }
 },
 "nbformat": 4,
 "nbformat_minor": 5
}
