{
 "cells": [
  {
   "cell_type": "code",
   "execution_count": 1,
   "id": "e5acb9bd-e3e3-4888-9b91-4d4ff1221197",
   "metadata": {},
   "outputs": [],
   "source": [
    "import numpy as np\n",
    "import matplotlib.pyplot as plt\n",
    "\n",
    "import seaborn as sns\n",
    "sns.set()"
   ]
  },
  {
   "cell_type": "markdown",
   "id": "974919cf-a82b-4473-a787-dd64415ff399",
   "metadata": {},
   "source": [
    "Let's consider our model for auto-regulation again.\n",
    "\n",
    "$$\\frac{dX}{dt} = \\frac{\\beta}{1+\\frac{X^n}{K^n}} - \\alpha X \\tag{1} $$\n",
    "\n",
    "As a reminder, $dX/dt$ defines a slope, or an expected amount of change in the variable $X$. So if we are interested in determining how $X$ will change over *time*, we can use the expected slope as a way to predict where $X$ will be in the future time point $t + \\Delta t$. Concretely in mathematical terms, this looks like:\n",
    "\n",
    "$$X(t+\\Delta t) = X(t) + \\left( \\frac{\\beta}{1+\\frac{X(t)^n}{K^n}} - \\alpha X(t) \\right) \\Delta t \\tag{2} $$"
   ]
  },
  {
   "cell_type": "code",
   "execution_count": 6,
   "id": "34169822-6bed-4a4b-a7f1-cb6021adb519",
   "metadata": {},
   "outputs": [],
   "source": [
    "Beta = 10 # per min \n",
    "alpha = 1 # per transcript per min\n",
    "K = 5 # per cell \n",
    "n = 2"
   ]
  },
  {
   "cell_type": "code",
   "execution_count": 7,
   "id": "7d6e9c31-9d58-4e4c-a0a6-85a672a24e17",
   "metadata": {},
   "outputs": [
    {
     "data": {
      "text/plain": [
       "Text(0, 0.5, 'copy number of X per cell')"
      ]
     },
     "execution_count": 7,
     "metadata": {},
     "output_type": "execute_result"
    },
    {
     "data": {
      "image/png": "[encoded data removed]",
      "text/plain": [
       "<Figure size 432x288 with 1 Axes>"
      ]
     },
     "metadata": {},
     "output_type": "display_data"
    }
   ],
   "source": [
    "X = np.zeros(100)\n",
    "dt = 0.1 # min\n",
    "\n",
    "for t in range(len(X)-1):\n",
    "    dX = Beta / (1 + X[t]**n/K**n) - alpha * X[t]\n",
    "    X[t+1] = X[t] + dX*dt\n",
    "    \n",
    "t = np.arange(len(X))*dt   \n",
    "plt.plot(t, X)\n",
    "plt.xlabel(\"time (mins)\")\n",
    "plt.ylabel(\"copy number of X per cell\")"
   ]
  },
  {
   "cell_type": "markdown",
   "id": "7ee21f3f-f4a3-434d-891b-2ff904545f72",
   "metadata": {},
   "source": [
    "## Autoregulation vs. simple regulation \n",
    "\n",
    "Remember that simple regulation was described as:\n",
    "\n",
    "$$\\frac{dX}{dt} = \\beta - \\alpha X \\tag{3}$$\n",
    "\n",
    "Below, use the Euler method to integrate Equation (3). Plot both results (autoregulation vs. simple regulation) on the same graph. Can you validate what was seen from Figure 2.6 in Alon? As a tip, you will want to change the value of $\\beta$ so that the two models have the same steady state and will be more directly comparable."
   ]
  },
  {
   "cell_type": "code",
   "execution_count": 8,
   "id": "3764c4d6-f72c-4393-afd6-cebb3f5c65c1",
   "metadata": {},
   "outputs": [
    {
     "data": {
      "text/plain": [
       "Text(0, 0.5, 'copy number of X per cell')"
      ]
     },
     "execution_count": 8,
     "metadata": {},
     "output_type": "execute_result"
    },
    {
     "data": {
      "image/png": "[encoded data removed]",
      "text/plain": [
       "<Figure size 432x288 with 1 Axes>"
      ]
     },
     "metadata": {},
     "output_type": "display_data"
    }
   ],
   "source": [
    "Xe = np.zeros(100)\n",
    "Betae = 5\n",
    "alphae = 1\n",
    "dte = 0.1\n",
    "\n",
    "for te in range(len(Xe)-1):\n",
    "    dXe = Betae - alphae*Xe[te]\n",
    "    Xe[te+1] = Xe[te] + dXe*dte\n",
    "    \n",
    "te = np.arange(len(Xe))*dte\n",
    "plt.plot(te, Xe)\n",
    "plt.plot(t,X)\n",
    "plt.xlabel(\"time (mins)\")\n",
    "plt.ylabel(\"copy number of X per cell\")"
   ]
  },
  {
   "cell_type": "markdown",
   "id": "53e8c36e-6641-4872-8f4a-a48eb34e82cf",
   "metadata": {},
   "source": [
    "## Modeling a C1-FFL\n",
    "\n",
    "### (a)\n",
    "\n",
    "First specify the values of X over time, with a short pulse and a long pulse built in, like that in Figure 3.11 in Alon. Plot your resulting array to make sure that you've encoded this information correctly. "
   ]
  },
  {
   "cell_type": "code",
   "execution_count": null,
   "id": "63b9d498-dd9e-4aff-8759-c16b542bcf06",
   "metadata": {},
   "outputs": [],
   "source": []
  },
  {
   "cell_type": "markdown",
   "id": "d1312f1f-cd77-4251-b33c-8243351160e0",
   "metadata": {},
   "source": [
    "### (b)\n",
    "\n",
    "Specify the two differential equations of the C1-FFL below. The production of $Y$ should be modeled as an activating Hill function that depends on $X$. The production of $Z$ should be modeled as an activating Hill function that depends on $X$ **times** and activating Hill function that depends on $Y$. Be able to explain why this acts as the desired \"AND\" gate.\n",
    "\n",
    "$$\\frac{dY}{dt} = $$\n",
    "\n",
    "$$\\frac{dZ}{dt} = $$"
   ]
  },
  {
   "cell_type": "markdown",
   "id": "27049af6-cbaa-426d-9ccd-35ed6a896e6b",
   "metadata": {},
   "source": [
    "### (c)\n",
    "\n",
    "Use Euler to integrate both $Y$ and $Z$ over time. Keep in mind that their behavior will depend on the values of the $X$ array you set up in part (a)!"
   ]
  },
  {
   "cell_type": "code",
   "execution_count": null,
   "id": "1d9cb613-c976-4968-9156-ea864725a626",
   "metadata": {},
   "outputs": [],
   "source": []
  }
 ],
 "metadata": {
  "kernelspec": {
   "display_name": "Python 3 (ipykernel)",
   "language": "python",
   "name": "python3"
  },
  "language_info": {
   "codemirror_mode": {
    "name": "ipython",
    "version": 3
   },
   "file_extension": ".py",
   "mimetype": "text/x-python",
   "name": "python",
   "nbconvert_exporter": "python",
   "pygments_lexer": "ipython3",
   "version": "3.9.12"
  }
 },
 "nbformat": 4,
 "nbformat_minor": 5
}
