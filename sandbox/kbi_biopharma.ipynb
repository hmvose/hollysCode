{
 "cells": [
  {
   "cell_type": "markdown",
   "id": "ab2d2592-3b25-4098-9b26-a9c16616649e",
   "metadata": {},
   "source": [
    "#A factory builds parts that it then sells. \n",
    "#A text file contains information about what is manufactured (positive number) \n",
    "#and what is sold (negative number). Assuming that text is the following, build a program \n",
    "#that digests that text file, and computes the state of the inventory at the end. \n",
    "\n",
    "Wizilidget 3 \n",
    "\n",
    "Spatzlblock 4 \n",
    "\n",
    "Foozalator 5 \n",
    "\n",
    "Spatzlblock -1 \n",
    "\n",
    "Foozalator -2  \n",
    "\n",
    "Wizilidget 2 \n",
    "\n",
    "Foozalator 2 \n",
    "\n",
    "Spatzlblock -2 \n",
    "\n",
    "Foozalator -1\n",
    "\n",
    "Wizilidget -3"
   ]
  },
  {
   "cell_type": "code",
   "execution_count": 1,
   "id": "35e78e66-544e-4d62-9c39-4953865295f2",
   "metadata": {},
   "outputs": [],
   "source": [
    "import pandas as pn\n",
    "import numpy as np\n",
    "import matplotlib.pyplot as plt"
   ]
  },
  {
   "cell_type": "code",
   "execution_count": 37,
   "id": "4bb7a90a-6a39-40d0-99aa-0c5780fe2a32",
   "metadata": {},
   "outputs": [
    {
     "name": "stdout",
     "output_type": "stream",
     "text": [
      "['Wizilidget 3 \\n', 'Spatzlblock 4 \\n', 'Foozalator 5 \\n', 'Spatzlblock -1 \\n', 'Foozalator -2  \\n', 'Wizilidget 2 \\n', 'Foozalator 2 \\n', 'Spatzlblock -2 \\n', 'Foozalator -1 \\n', 'Wizilidget -3 ']\n"
     ]
    }
   ],
   "source": [
    "file = open('test.txt')\n",
    "print(file.readlines())"
   ]
  },
  {
   "cell_type": "code",
   "execution_count": 25,
   "id": "89728f7e-1d8a-4f97-848b-5d92d5bb511f",
   "metadata": {},
   "outputs": [
    {
     "name": "stdout",
     "output_type": "stream",
     "text": [
      "product 5\n"
     ]
    }
   ],
   "source": [
    "prod_test = []\n",
    "test = 'product 5'\n",
    "\n",
    "name, man = test.split(\" \")\n",
    "\n",
    "prod_test.append([name, man])\n",
    "\n",
    "for a in prod_test:\n",
    "    print(a[0] + \" \" + str(a[1]))"
   ]
  },
  {
   "cell_type": "code",
   "execution_count": 30,
   "id": "d53f3f94-2b72-412d-a4cf-c306b88a724b",
   "metadata": {},
   "outputs": [
    {
     "name": "stdout",
     "output_type": "stream",
     "text": [
      "Spatzlblock 4 \n",
      "\n",
      "Foozalator 5 \n",
      "\n",
      "Foozalator -2  \n",
      "\n",
      "Wizilidget 2 \n",
      "\n",
      "Spatzlblock -2 \n",
      "\n",
      "Foozalator -1 \n",
      "\n"
     ]
    },
    {
     "ename": "IndexError",
     "evalue": "list index out of range",
     "output_type": "error",
     "traceback": [
      "\u001b[1;31m---------------------------------------------------------------------------\u001b[0m",
      "\u001b[1;31mIndexError\u001b[0m                                Traceback (most recent call last)",
      "Input \u001b[1;32mIn [30]\u001b[0m, in \u001b[0;36m<cell line: 10>\u001b[1;34m()\u001b[0m\n\u001b[0;32m      8\u001b[0m count \u001b[38;5;241m=\u001b[39m \u001b[38;5;241m1\u001b[39m\n\u001b[0;32m     10\u001b[0m \u001b[38;5;28;01mwhile\u001b[39;00m file\u001b[38;5;241m.\u001b[39mreadlines(count)[\u001b[38;5;241m0\u001b[39m] \u001b[38;5;241m!=\u001b[39m \u001b[38;5;124m\"\u001b[39m\u001b[38;5;124m\"\u001b[39m:\n\u001b[1;32m---> 11\u001b[0m     \u001b[38;5;28mprint\u001b[39m(\u001b[43mfile\u001b[49m\u001b[38;5;241;43m.\u001b[39;49m\u001b[43mreadlines\u001b[49m\u001b[43m(\u001b[49m\u001b[43mcount\u001b[49m\u001b[43m)\u001b[49m\u001b[43m[\u001b[49m\u001b[38;5;241;43m0\u001b[39;49m\u001b[43m]\u001b[49m)\n\u001b[0;32m     13\u001b[0m     input_line \u001b[38;5;241m=\u001b[39m file\u001b[38;5;241m.\u001b[39mreadlines(count)[\u001b[38;5;241m0\u001b[39m]\n\u001b[0;32m     15\u001b[0m     \u001b[38;5;28mprint\u001b[39m(input_line)\n",
      "\u001b[1;31mIndexError\u001b[0m: list index out of range"
     ]
    }
   ],
   "source": [
    "#define list of products\n",
    "products = []\n",
    "\n",
    "#open the file\n",
    "file = open('test.txt')\n",
    "\n",
    "#process each line as 'text, number'\n",
    "count = 1\n",
    "\n",
    "while file.readlines(count)[0] != \"\":\n",
    "    print(file.readlines(count)[0])\n",
    "    \n",
    "    input_line = file.readlines(count)[0]\n",
    "    \n",
    "    print(input_line)\n",
    "    \n",
    "    name, manufacture, new = input_line.split(\" \")\n",
    "    \n",
    "    for items in products:\n",
    "        if name == items[0]:\n",
    "            #we know that we have already seen the item\n",
    "            items[1] += manufactre \n",
    "        else:\n",
    "            products.append([name, manufacture])\n",
    "    \n",
    "    count += 1\n",
    "\n",
    "for final_values in products:\n",
    "    print(final_values[0] + str(final_values[1]))\n",
    "        \n"
   ]
  },
  {
   "cell_type": "code",
   "execution_count": 1,
   "id": "f2fca20f-3e0e-404d-a512-1396ccaaed5b",
   "metadata": {},
   "outputs": [
    {
     "name": "stdout",
     "output_type": "stream",
     "text": [
      "palindrome\n"
     ]
    }
   ],
   "source": [
    "stringy = 'rarar is the best tseb eht si rarar'\n",
    "\n",
    "if stringy == stringy[::-1]:\n",
    "    print('palindrome')\n",
    "else:\n",
    "    print('boo')"
   ]
  },
  {
   "cell_type": "code",
   "execution_count": null,
   "id": "9e8872e6-5453-4673-8254-9a7cb1472d50",
   "metadata": {},
   "outputs": [],
   "source": []
  }
 ],
 "metadata": {
  "kernelspec": {
   "display_name": "Python 3 (ipykernel)",
   "language": "python",
   "name": "python3"
  },
  "language_info": {
   "codemirror_mode": {
    "name": "ipython",
    "version": 3
   },
   "file_extension": ".py",
   "mimetype": "text/x-python",
   "name": "python",
   "nbconvert_exporter": "python",
   "pygments_lexer": "ipython3",
   "version": "3.9.12"
  }
 },
 "nbformat": 4,
 "nbformat_minor": 5
}
