{
 "cells": [
  {
   "cell_type": "code",
   "execution_count": 65,
   "id": "3c260d7e-dc0f-46ad-b8d0-7528cc64d820",
   "metadata": {},
   "outputs": [],
   "source": [
    "import sys"
   ]
  },
  {
   "cell_type": "code",
   "execution_count": 66,
   "id": "e5e84fd9-940f-4b41-bed5-41b1a307f2cb",
   "metadata": {},
   "outputs": [],
   "source": [
    "#FILE PARSER: CREATE LIST OF CONNECTIONS\n",
    "def file_parser(filename):\n",
    "    newfile = open(filename)\n",
    "\n",
    "    eof = False\n",
    "    connect_list = []\n",
    "\n",
    "    while eof == False:\n",
    "        entry = newfile.readline()\n",
    "        entry = entry.rstrip(\"\\n\")\n",
    "        if entry == \"END OF INPUT\":\n",
    "            eof = True\n",
    "        else:\n",
    "            entry_fix = entry.split(\" \")\n",
    "            connect_list.append(entry_fix)\n",
    "    return connect_list"
   ]
  },
  {
   "cell_type": "code",
   "execution_count": 4,
   "id": "e8d44a90-503b-412f-8927-dc6d6c7c5453",
   "metadata": {},
   "outputs": [],
   "source": [
    "def generate_map(city_list):\n",
    "    unique_cities = {}\n",
    "    index = 0\n",
    "    city_map = []\n",
    "    \n",
    "    for group in city_list:\n",
    "        start, end, distance = group\n",
    "        city_group_start = [start, [[end,int(distance)]]]\n",
    "        city_group_end = [end, [[start,int(distance)]]]\n",
    "        if start not in list(unique_cities.keys()):\n",
    "            unique_cities[start] = index\n",
    "            index += 1\n",
    "            city_map.append(city_group_start)\n",
    "        else:\n",
    "            city_map[unique_cities[start]][1].append([end, int(distance)])\n",
    "            \n",
    "        if end not in list(unique_cities.keys()):\n",
    "            unique_cities[end] = index\n",
    "            index += 1\n",
    "            city_map.append(city_group_end)\n",
    "        else:\n",
    "            city_map[unique_cities[end]][1].append([start, int(distance)])\n",
    "            \n",
    "        \n",
    "    return city_map, unique_cities\n",
    "            "
   ]
  },
  {
   "cell_type": "code",
   "execution_count": 5,
   "id": "621e3535-449f-44df-8691-d71d8dc00e41",
   "metadata": {},
   "outputs": [],
   "source": [
    "#initializing the nodes and the stuff\n",
    "def pathfinder(start, end, city_map, city_list):\n",
    "\n",
    "    tree_dict = {}\n",
    "    fringe = []\n",
    "    expand_node = (start, 0, 0)\n",
    "    ref = 1\n",
    "    possible = True\n",
    "\n",
    "    fringe.append(expand_node)\n",
    "\n",
    "    tree_dict[expand_node] = []\n",
    "\n",
    "    while fringe:\n",
    "        \n",
    "        if ref > len(city_list.keys()) * 1500:\n",
    "            possible = False\n",
    "            placeholder = {}\n",
    "            return placeholder, expand_node, possible\n",
    "        \n",
    "        for city in city_map[city_list[expand_node[0]]][1]:\n",
    "            new_cost = int(city[1]) + expand_node[1]\n",
    "            new_group = (city[0], new_cost, ref)\n",
    "            tree_dict[new_group] = []\n",
    "            tree_dict[expand_node].append(new_group)\n",
    "            ref += 1\n",
    "            fringe.append(new_group)\n",
    "            \n",
    "        fringe.sort(key=lambda x: (x[1]))\n",
    "        \n",
    "        expand_node = fringe.pop(0)\n",
    "        \n",
    "        if expand_node[0] == end:\n",
    "            return tree_dict, expand_node, possible\n",
    "\n"
   ]
  },
  {
   "cell_type": "code",
   "execution_count": 60,
   "id": "defdc1bb-e390-4203-9b39-b24c01886a61",
   "metadata": {},
   "outputs": [],
   "source": [
    "#THE BIG KAHUNA\n",
    "\n",
    "def find_route(filename, start, end):\n",
    "    #open the file and properly initialize everything\n",
    "    city_file = file_parser(filename)\n",
    "    city_map, unique_cities = generate_map(city_file)\n",
    "\n",
    "    #looplist = bfs(visit, city_map, start, unique_cities) \n",
    "    #CASE II: input cities are the same\n",
    "    if start == end:\n",
    "        #do the right output\n",
    "        print(\"distance: 0 km\")\n",
    "        print(\"route:\")\n",
    "        print(start + \" to \" + end + \", 0 km\")\n",
    "        return\n",
    "    final_tree, final_node, possible = pathfinder(start, end, city_map, unique_cities)\n",
    "    if possible == False:\n",
    "        #do the right output\n",
    "        print(\"distance: infinity\")\n",
    "        print(\"route:\")\n",
    "        print(\"none\")\n",
    "        return\n",
    "    else: #we are now sure the cities are different and a path can be found\n",
    "        best_path = []\n",
    "        best_path.append(final_node[0])\n",
    "        search_node = final_node\n",
    "        while search_node != (start, 0, 0):\n",
    "            for keys in list(final_tree.keys()):\n",
    "                for node in final_tree[keys]:\n",
    "                    if node == search_node:\n",
    "                        best_path.append(keys[0])\n",
    "                        search_node = keys\n",
    "        \n",
    "        best_path.reverse()\n",
    "        roads = []\n",
    "        distance = 0\n",
    "        for i in range(len(best_path)-1):\n",
    "            #need to find the corresponding route from the given city\n",
    "            for j in range(len(city_map[unique_cities[best_path[i]]][1])):\n",
    "                if city_map[unique_cities[best_path[i]]][1][j][0] == best_path[i+1]:\n",
    "                    road = city_map[unique_cities[best_path[i]]][1][j][1]\n",
    "                    direction = best_path[i] + \" to \" + best_path[i+1] + \", \" + str(road) + \" km\"\n",
    "                    roads.append(direction)\n",
    "        print()\n",
    "        print(\"distance: \" + str(final_node[1]) + \" km\")\n",
    "        print(\"route:\")\n",
    "        for i in roads:\n",
    "            print(i)\n",
    "        return"
   ]
  },
  {
   "cell_type": "code",
   "execution_count": 64,
   "id": "50505082-0ec3-4f7e-bd3e-aecc83a47324",
   "metadata": {},
   "outputs": [
    {
     "ename": "IndexError",
     "evalue": "list index out of range",
     "output_type": "error",
     "traceback": [
      "\u001b[1;31m---------------------------------------------------------------------------\u001b[0m",
      "\u001b[1;31mIndexError\u001b[0m                                Traceback (most recent call last)",
      "Input \u001b[1;32mIn [64]\u001b[0m, in \u001b[0;36m<cell line: 1>\u001b[1;34m()\u001b[0m\n\u001b[1;32m----> 1\u001b[0m find_route(sys\u001b[38;5;241m.\u001b[39margv[\u001b[38;5;241m1\u001b[39m], sys\u001b[38;5;241m.\u001b[39margv[\u001b[38;5;241m2\u001b[39m], \u001b[43msys\u001b[49m\u001b[38;5;241;43m.\u001b[39;49m\u001b[43margv\u001b[49m\u001b[43m[\u001b[49m\u001b[38;5;241;43m3\u001b[39;49m\u001b[43m]\u001b[49m)\n",
      "\u001b[1;31mIndexError\u001b[0m: list index out of range"
     ]
    }
   ],
   "source": [
    "find_route(sys.argv[1], sys.argv[2], sys.argv[3])"
   ]
  },
  {
   "cell_type": "code",
   "execution_count": 2,
   "id": "e2346eb0-d46b-485e-a340-8c069db13a5e",
   "metadata": {},
   "outputs": [
    {
     "name": "stdout",
     "output_type": "stream",
     "text": [
      "1\n"
     ]
    }
   ],
   "source": [
    "new_dict = {1:3}\n",
    "\n",
    "print(len(new_dict))"
   ]
  }
 ],
 "metadata": {
  "kernelspec": {
   "display_name": "Python 3 (ipykernel)",
   "language": "python",
   "name": "python3"
  },
  "language_info": {
   "codemirror_mode": {
    "name": "ipython",
    "version": 3
   },
   "file_extension": ".py",
   "mimetype": "text/x-python",
   "name": "python",
   "nbconvert_exporter": "python",
   "pygments_lexer": "ipython3",
   "version": "3.9.12"
  }
 },
 "nbformat": 4,
 "nbformat_minor": 5
}
