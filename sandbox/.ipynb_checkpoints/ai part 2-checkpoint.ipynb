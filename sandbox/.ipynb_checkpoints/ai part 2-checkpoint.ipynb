{
 "cells": [
  {
   "cell_type": "code",
   "execution_count": 15,
   "id": "1f578bca-5e41-4363-9d97-cb45b61fb6d6",
   "metadata": {},
   "outputs": [],
   "source": [
    "import copy"
   ]
  },
  {
   "cell_type": "code",
   "execution_count": 1,
   "id": "824d355c-71f5-442c-9b82-575ce122cf9e",
   "metadata": {},
   "outputs": [],
   "source": [
    "#FILE PARSER: CREATE LIST OF CONNECTIONS\n",
    "def file_parser(filename):\n",
    "    newfile = open(filename)\n",
    "\n",
    "    eof = False\n",
    "    connect_list = []\n",
    "\n",
    "    while eof == False:\n",
    "        entry = newfile.readline()\n",
    "        entry = entry.rstrip(\"\\n\")\n",
    "        if entry == \"END OF INPUT\":\n",
    "            eof = True\n",
    "        else:\n",
    "            entry_fix = entry.split(\" \")\n",
    "            connect_list.append(entry_fix)\n",
    "    return connect_list"
   ]
  },
  {
   "cell_type": "code",
   "execution_count": 2,
   "id": "2e5218c1-d7a8-4a1b-a816-bae6d73785fe",
   "metadata": {},
   "outputs": [],
   "source": [
    "def generate_map(city_list):\n",
    "    unique_cities = {}\n",
    "    index = 0\n",
    "    city_map = []\n",
    "    \n",
    "    for group in city_list:\n",
    "        start, end, distance = group\n",
    "        city_group_start = [start, [[end,int(distance)]]]\n",
    "        city_group_end = [end, [[start,int(distance)]]]\n",
    "        if start not in list(unique_cities.keys()):\n",
    "            unique_cities[start] = index\n",
    "            index += 1\n",
    "            city_map.append(city_group_start)\n",
    "        else:\n",
    "            city_map[unique_cities[start]][1].append([end, int(distance)])\n",
    "            \n",
    "        if end not in list(unique_cities.keys()):\n",
    "            unique_cities[end] = index\n",
    "            index += 1\n",
    "            city_map.append(city_group_end)\n",
    "        else:\n",
    "            city_map[unique_cities[end]][1].append([start, int(distance)])\n",
    "            \n",
    "        \n",
    "    return city_map, unique_cities"
   ]
  },
  {
   "cell_type": "code",
   "execution_count": 87,
   "id": "66fd360b-7832-47e1-bd14-251436493779",
   "metadata": {},
   "outputs": [],
   "source": [
    "blub = file_parser('programming_assignment1_input1.txt')\n",
    "city_map, city_list = generate_map(blub)\n",
    "\n",
    "city_map_og = copy.deepcopy(city_map)\n",
    "city_list_og = copy.deepcopy(city_list)"
   ]
  },
  {
   "cell_type": "code",
   "execution_count": 86,
   "id": "63b5ecbe-6e39-4edd-943a-3d2b8e0a4684",
   "metadata": {},
   "outputs": [
    {
     "name": "stdout",
     "output_type": "stream",
     "text": [
      "['Bremen', [['Hamburg', 211, 116], ['Hannover', 227, 132], ['Dortmund', 329, 234]]]\n",
      "[['Hamburg', 211, 116], ['Hannover', 227, 132], ['Dortmund', 329, 234]]\n"
     ]
    }
   ],
   "source": [
    "city_map[city_list[\"Bremen\"]]\n",
    "cost = 5\n",
    "\n",
    "for city in city_map[city_list[\"Bremen\"]][1]:\n",
    "    if len(city) == 2:\n",
    "        city.append(city[1])\n",
    "    city[1] += cost\n",
    "\n",
    "print(city_map[city_list[\"Bremen\"]])\n",
    "\n",
    "for reset in city_map_og[city_list_og[\"Bremen\"]][1]:\n",
    "    city_map[city_list[\"Bremen\"]][1] = city_map_og[city_list_og[\"Bremen\"]][1]\n",
    "\n",
    "print(city_map_og[city_list_og[\"Bremen\"]][1])"
   ]
  },
  {
   "cell_type": "code",
   "execution_count": 35,
   "id": "5ac3f6cc-3699-4e65-bcdb-1ca844c28065",
   "metadata": {},
   "outputs": [
    {
     "name": "stdout",
     "output_type": "stream",
     "text": [
      "[['Hamburg', 116], ['Hannover', 132], ['Dortmund', 234]]\n"
     ]
    }
   ],
   "source": [
    "start = 'Bremen'\n",
    "end = 'Frankfurt'\n"
   ]
  },
  {
   "cell_type": "code",
   "execution_count": 88,
   "id": "2b8303aa-99fd-4c3e-a329-78b1d0f7e148",
   "metadata": {},
   "outputs": [],
   "source": [
    "def pathfinder(next_node, end, fringe, cost, final):\n",
    "    if start == end:\n",
    "        return\n",
    "    else:\n",
    "        paths = city_map[city_list[next_node]][1]\n",
    "\n",
    "        for city in paths:\n",
    "            if len(city) == 2:\n",
    "                city.append(city[1])\n",
    "            city[1] = city[2]\n",
    "            city[1] += cost\n",
    "            fringe.append(city)\n",
    "\n",
    "        print(fringe)\n",
    "        fringe.sort(key=lambda x: x[1])\n",
    "\n",
    "        \n",
    "        next_node = fringe[0][0]\n",
    "        new_cost = fringe[0][1]\n",
    "        \n",
    "        if new_cost < cost: #tells us we have a better path somewhere else\n",
    "        #adjust i guess\n",
    "        \n",
    "        fringe.pop(0)\n",
    "        \n",
    "        return pathfinder(next_node, end, fringe, new_cost)\n"
   ]
  },
  {
   "cell_type": "code",
   "execution_count": null,
   "id": "eaf213eb-49b9-478f-baf2-8e954e4c909d",
   "metadata": {},
   "outputs": [],
   "source": []
  }
 ],
 "metadata": {
  "kernelspec": {
   "display_name": "Python 3 (ipykernel)",
   "language": "python",
   "name": "python3"
  },
  "language_info": {
   "codemirror_mode": {
    "name": "ipython",
    "version": 3
   },
   "file_extension": ".py",
   "mimetype": "text/x-python",
   "name": "python",
   "nbconvert_exporter": "python",
   "pygments_lexer": "ipython3",
   "version": "3.9.12"
  }
 },
 "nbformat": 4,
 "nbformat_minor": 5
}
