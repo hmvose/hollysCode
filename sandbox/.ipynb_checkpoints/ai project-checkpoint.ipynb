{
 "cells": [
  {
   "cell_type": "code",
   "execution_count": 2,
   "id": "1aabb5e8-f240-4f86-b8cb-b47288df1ac5",
   "metadata": {},
   "outputs": [],
   "source": [
    "import numpy as np\n",
    "import copy"
   ]
  },
  {
   "cell_type": "code",
   "execution_count": 3,
   "id": "bee09e6f-5154-4906-886f-123487800f1d",
   "metadata": {},
   "outputs": [],
   "source": [
    "#FILE PARSER: CREATE LIST OF CONNECTIONS\n",
    "def file_parser(filename):\n",
    "    newfile = open(filename)\n",
    "\n",
    "    eof = False\n",
    "    connect_list = []\n",
    "\n",
    "    while eof == False:\n",
    "        entry = newfile.readline()\n",
    "        entry = entry.rstrip(\"\\n\")\n",
    "        if entry == \"END OF INPUT\":\n",
    "            eof = True\n",
    "        else:\n",
    "            entry_fix = entry.split(\" \")\n",
    "            connect_list.append(entry_fix)\n",
    "    return connect_list"
   ]
  },
  {
   "cell_type": "code",
   "execution_count": 4,
   "id": "0bbe4648-857a-433d-a3fb-1d08c0e33ba3",
   "metadata": {},
   "outputs": [],
   "source": [
    "def generate_map(city_list):\n",
    "    unique_cities = {}\n",
    "    index = 0\n",
    "    city_map = []\n",
    "    \n",
    "    for group in city_list:\n",
    "        start, end, distance = group\n",
    "        city_group_start = [start, [[end,int(distance)]]]\n",
    "        city_group_end = [end, [[start,int(distance)]]]\n",
    "        if start not in list(unique_cities.keys()):\n",
    "            unique_cities[start] = index\n",
    "            index += 1\n",
    "            city_map.append(city_group_start)\n",
    "        else:\n",
    "            city_map[unique_cities[start]][1].append([end, int(distance)])\n",
    "            \n",
    "        if end not in list(unique_cities.keys()):\n",
    "            unique_cities[end] = index\n",
    "            index += 1\n",
    "            city_map.append(city_group_end)\n",
    "        else:\n",
    "            city_map[unique_cities[end]][1].append([start, int(distance)])\n",
    "            \n",
    "        \n",
    "    return city_map, unique_cities\n",
    "            "
   ]
  },
  {
   "cell_type": "code",
   "execution_count": 5,
   "id": "af0811f4-fe48-4538-85ac-c9adc1ec44aa",
   "metadata": {},
   "outputs": [],
   "source": [
    "#THE BIG KAHUNA\n",
    "\n",
    "def find_route(filename, start, end):\n",
    "    #open the file and properly initialize everything\n",
    "    city_file = file_parser(filename)\n",
    "    city_map, unique_cities = generate_map(city_file)\n",
    "    \n",
    "    city_map_copy = copy.deepcopy(city_map)\n",
    "    unique_cities_copy = copy.deepcopy(unique_cities)\n",
    "\n",
    "    possible = True\n",
    "    #CASE II: input cities are the same\n",
    "    if start == end:\n",
    "        #do the right output\n",
    "        print(\"distance: 0 km\")\n",
    "        print(\"route:\")\n",
    "        print(start + \" to \" + end + \", 0 km\")\n",
    "        return\n",
    "    elif (start not in list(unique_cities.keys())) or (end not in list(unique_cities.keys())):\n",
    "        #do the right output\n",
    "        print(\"distance: infinity\")\n",
    "        print(\"route:\")\n",
    "        print(\"none\")\n",
    "        return\n",
    "    #run bfs to see if city distance is even possible\n",
    "    #it goes here lol\n",
    "    elif possible == False:\n",
    "        #do the right output\n",
    "        print(\"distance: infinity\")\n",
    "        print(\"route:\")\n",
    "        print(\"none\")\n",
    "    else: #we are now sure the cities are different and a path can be found\n",
    "        path = finder(start, end, 0, unique_cities, city_map, [], [], 0)\n",
    "        distance = 0\n",
    "        roads = []\n",
    "        #for each [start, end] pair in the given route\n",
    "        for i in range(len(path)-1):\n",
    "            #need to find the corresponding route from the given city\n",
    "            for j in range(len(city_map_copy[unique_cities_copy[path[i]]][1])):\n",
    "                if city_map_copy[unique_cities_copy[path[i]]][1][j][0] == path[i+1]:\n",
    "                    road = city_map_copy[unique_cities_copy[path[i]]][1][j][1]\n",
    "                    distance += road\n",
    "                    direction = path[i] + \" to \" + path[i+1] + \", \" + str(road) + \" km\"\n",
    "                    roads.append(direction)\n",
    "        print(\"distance: \" + str(distance) + \" km\")\n",
    "        print(\"route:\")\n",
    "        for i in roads:\n",
    "            print(i)\n",
    "        return;\n",
    "        #format the output right"
   ]
  },
  {
   "cell_type": "code",
   "execution_count": 20,
   "id": "08e60579-8b7d-4e3d-baec-b69c26e280c4",
   "metadata": {},
   "outputs": [
    {
     "name": "stdout",
     "output_type": "stream",
     "text": [
      "distance: 455 km\n",
      "route:\n",
      "Bremen to Dortmund, 234 km\n",
      "Dortmund to Frankfurt, 221 km\n"
     ]
    }
   ],
   "source": [
    "find_route('programming_assignment1_input1.txt', 'Bremen', 'Frankfurt')"
   ]
  },
  {
   "cell_type": "code",
   "execution_count": 7,
   "id": "8a75700e-a13d-4fde-900a-ede17a836359",
   "metadata": {},
   "outputs": [
    {
     "name": "stdout",
     "output_type": "stream",
     "text": [
      "['Karlsruhe', [['Saarbruecken', 143], ['Stuttgart', 71]]]\n"
     ]
    }
   ],
   "source": [
    "test = file_parser('programming_assignment1_input1.txt')\n",
    "#print(test)\n",
    "city_map, city_list = generate_map(test)\n",
    "\n",
    "print(city_map[city_list['Karlsruhe']])"
   ]
  },
  {
   "cell_type": "code",
   "execution_count": 9,
   "id": "38043b2d-4b57-4cea-9ec2-a9a3bbe915f7",
   "metadata": {},
   "outputs": [],
   "source": [
    "small_test = file_parser('small_map.txt')\n",
    "small_map, map_list = generate_map(small_test)\n",
    "\n",
    "real_map = copy.deepcopy(small_map)\n",
    "real_list = copy.deepcopy(map_list)"
   ]
  },
  {
   "cell_type": "code",
   "execution_count": 19,
   "id": "2de0c616-694a-470c-bc2b-c3740ec66ccf",
   "metadata": {},
   "outputs": [],
   "source": [
    "def finder(start, end, curr_cost, map_list, small_map, fringe, expand, layer):\n",
    "    if start == end:\n",
    "        final_list = []\n",
    "        expand.append([start, layer])\n",
    "        for node in expand:\n",
    "            final_list.append(node[0])\n",
    "        return final_list\n",
    "    else:\n",
    "        layer += 1\n",
    "        expand.append([start, layer])\n",
    "        fringe_copy = small_map[map_list[start]][1]\n",
    "        \"\"\"\n",
    "        print(\"-------------STATISTICS-------------\")\n",
    "        print(\"STARTING NODE: \" + start)\n",
    "        print(\"CURRENT COST: \" + str(curr_cost))\n",
    "        print(\"EXPANDED NODES: \" + str(expand))\n",
    "        print(\"CURRENT FRINGE: \" + str(fringe))\n",
    "        print(\"NEW FRINGE: \" + str(fringe_copy))\n",
    "        print(\"CURRENT LAYER: \" + str(layer))\n",
    "        print(\"------------------------------------\")\n",
    "        \"\"\"\n",
    "        found_goal = False\n",
    "        \n",
    "        for i in fringe_copy:\n",
    "            if i[0] not in (name[0] for name in fringe):  #looks for duplicates\n",
    "                i[1] += curr_cost\n",
    "                i.append(layer)\n",
    "                #print(\"New fringe node added: \" + str(i))\n",
    "                fringe.append(i)\n",
    "\n",
    "        fringe.sort(key=lambda x: (x[1], x[2]))\n",
    "        #print(\"fringe values\")\n",
    "        #print(fringe)\n",
    "        \n",
    "        #IT WORKS UP TO HERE\n",
    "        #i think we can just pick the first element of the queue?? \n",
    "        \n",
    "        #CHECK FOR GOAL STATE\n",
    "        for node in fringe:\n",
    "            if node[0] == end:\n",
    "                found_goal = True\n",
    "                final_cost = node[1]\n",
    "                break\n",
    "               \n",
    "        if found_goal == True:\n",
    "            next_node = end\n",
    "            new_cost = curr_cost + node[1]\n",
    "            \n",
    "        else:\n",
    "            next_node = fringe[0][0]\n",
    "            new_cost = fringe[0][1]\n",
    "            #print(\"We are advancing with node \" + next_node + \" and cost \" + str(new_cost))\n",
    "            node_layer = fringe[0][2]\n",
    "            #print(\"Node layer for \" + str(node) + \" is \" + str(node_layer))\n",
    "            if node_layer < layer:\n",
    "                #print(\"OLDER LAYER DETECTED\")\n",
    "                bad_list = []\n",
    "                for node in expand:\n",
    "                    #print(str(expand) + \" is the list we're working with here\")\n",
    "                    #print(\"is \" + str(node[1]) + \" bigger than \" + str(node_layer) + \"?\")\n",
    "                    if node[1] > node_layer:\n",
    "                        #print(\"please print yes\")\n",
    "                        #print(str(node) + \" should be in the list\")\n",
    "                        bad_list.append(node)\n",
    "                \n",
    "                while len(bad_list) != 0:\n",
    "                    for node in bad_list:\n",
    "                        #print(str(node) + ' has been removed.')\n",
    "                        expand.remove(node)\n",
    "                        #print('we are supposed to be removing nodes here')\n",
    "                        #print(expand)\n",
    "                        bad_list.remove(node)\n",
    "            \n",
    "            fringe.pop(0)\n",
    "            #print(\"expand at end of function: \" + str(expand))\n",
    "            #print(\" \")\n",
    "            \n",
    "        return finder(next_node, end, new_cost, map_list, small_map, fringe, expand, layer)"
   ]
  },
  {
   "cell_type": "code",
   "execution_count": 7,
   "id": "cd63aea8-bbd6-4c95-9db9-4c1fe49d48f9",
   "metadata": {},
   "outputs": [
    {
     "name": "stdout",
     "output_type": "stream",
     "text": [
      "b\n"
     ]
    }
   ],
   "source": [
    "test_input = [['a',['b',4]], ['c', ['r', 5]]]\n",
    "\n",
    "print(test_input[0][1][0])"
   ]
  },
  {
   "cell_type": "code",
   "execution_count": 40,
   "id": "ab2147da-8c5a-46c8-9b2e-fabd303f7ac8",
   "metadata": {},
   "outputs": [
    {
     "name": "stdout",
     "output_type": "stream",
     "text": [
      "A to C, 3 km\n",
      "C to F, 1 km\n",
      "4\n"
     ]
    }
   ],
   "source": [
    "small_test = file_parser('small_map.txt')\n",
    "city_map, unique_cities = generate_map(small_test)\n",
    "\n",
    "city_map_copy = copy.deepcopy(city_map)\n",
    "unique_cities_copy = copy.deepcopy(unique_cities)\n",
    "\n",
    "path = finder('A', 'F', 0, unique_cities, city_map, [], [], 0)\n",
    "distance = 0\n",
    "\n",
    "            "
   ]
  },
  {
   "cell_type": "code",
   "execution_count": null,
   "id": "edd471ec-941c-4052-82e0-5d996e021e40",
   "metadata": {},
   "outputs": [],
   "source": [
    "path = finder('A', 'E', 0, real_list, real_map, [], [], 0)\n",
    "print(path)\n",
    "#should output ACF"
   ]
  }
 ],
 "metadata": {
  "kernelspec": {
   "display_name": "Python 3 (ipykernel)",
   "language": "python",
   "name": "python3"
  },
  "language_info": {
   "codemirror_mode": {
    "name": "ipython",
    "version": 3
   },
   "file_extension": ".py",
   "mimetype": "text/x-python",
   "name": "python",
   "nbconvert_exporter": "python",
   "pygments_lexer": "ipython3",
   "version": "3.9.12"
  }
 },
 "nbformat": 4,
 "nbformat_minor": 5
}
