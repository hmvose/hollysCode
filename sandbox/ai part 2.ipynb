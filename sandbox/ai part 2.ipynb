{
 "cells": [
  {
   "cell_type": "code",
   "execution_count": 68,
   "id": "1f578bca-5e41-4363-9d97-cb45b61fb6d6",
   "metadata": {},
   "outputs": [],
   "source": [
    "import copy\n",
    "import sys\n",
    "import numpy"
   ]
  },
  {
   "cell_type": "code",
   "execution_count": 5,
   "id": "824d355c-71f5-442c-9b82-575ce122cf9e",
   "metadata": {},
   "outputs": [],
   "source": [
    "#FILE PARSER: CREATE LIST OF CONNECTIONS\n",
    "def file_parser(filename):\n",
    "    newfile = open(filename)\n",
    "\n",
    "    eof = False\n",
    "    connect_list = []\n",
    "\n",
    "    while eof == False:\n",
    "        entry = newfile.readline()\n",
    "        entry = entry.rstrip(\"\\n\")\n",
    "        if entry == \"END OF INPUT\":\n",
    "            eof = True\n",
    "        else:\n",
    "            entry_fix = entry.split(\" \")\n",
    "            connect_list.append(entry_fix)\n",
    "    return connect_list"
   ]
  },
  {
   "cell_type": "code",
   "execution_count": 6,
   "id": "2e5218c1-d7a8-4a1b-a816-bae6d73785fe",
   "metadata": {},
   "outputs": [],
   "source": [
    "def generate_map(city_list):\n",
    "    unique_cities = {}\n",
    "    index = 0\n",
    "    city_map = []\n",
    "    \n",
    "    for group in city_list:\n",
    "        start, end, distance = group\n",
    "        city_group_start = [start, [[end,int(distance)]]]\n",
    "        city_group_end = [end, [[start,int(distance)]]]\n",
    "        if start not in list(unique_cities.keys()):\n",
    "            unique_cities[start] = index\n",
    "            index += 1\n",
    "            city_map.append(city_group_start)\n",
    "        else:\n",
    "            city_map[unique_cities[start]][1].append([end, int(distance)])\n",
    "            \n",
    "        if end not in list(unique_cities.keys()):\n",
    "            unique_cities[end] = index\n",
    "            index += 1\n",
    "            city_map.append(city_group_end)\n",
    "        else:\n",
    "            city_map[unique_cities[end]][1].append([start, int(distance)])\n",
    "            \n",
    "        \n",
    "    return city_map, unique_cities"
   ]
  },
  {
   "cell_type": "code",
   "execution_count": 7,
   "id": "66fd360b-7832-47e1-bd14-251436493779",
   "metadata": {},
   "outputs": [],
   "source": [
    "blub = file_parser('programming_assignment1_input1.txt')\n",
    "city_map, city_list = generate_map(blub)\n",
    "\n",
    "city_map_og = copy.deepcopy(city_map)\n",
    "city_list_og = copy.deepcopy(city_list)"
   ]
  },
  {
   "cell_type": "code",
   "execution_count": 86,
   "id": "63b5ecbe-6e39-4edd-943a-3d2b8e0a4684",
   "metadata": {},
   "outputs": [
    {
     "name": "stdout",
     "output_type": "stream",
     "text": [
      "['Bremen', [['Hamburg', 211, 116], ['Hannover', 227, 132], ['Dortmund', 329, 234]]]\n",
      "[['Hamburg', 211, 116], ['Hannover', 227, 132], ['Dortmund', 329, 234]]\n"
     ]
    }
   ],
   "source": [
    "city_map[city_list[\"Bremen\"]]\n",
    "cost = 5\n",
    "\n",
    "for city in city_map[city_list[\"Bremen\"]][1]:\n",
    "    if len(city) == 2:\n",
    "        city.append(city[1])\n",
    "    city[1] += cost\n",
    "\n",
    "print(city_map[city_list[\"Bremen\"]])\n",
    "\n",
    "for reset in city_map_og[city_list_og[\"Bremen\"]][1]:\n",
    "    city_map[city_list[\"Bremen\"]][1] = city_map_og[city_list_og[\"Bremen\"]][1]\n",
    "\n",
    "print(city_map_og[city_list_og[\"Bremen\"]][1])"
   ]
  },
  {
   "cell_type": "code",
   "execution_count": 35,
   "id": "5ac3f6cc-3699-4e65-bcdb-1ca844c28065",
   "metadata": {},
   "outputs": [
    {
     "name": "stdout",
     "output_type": "stream",
     "text": [
      "[['Hamburg', 116], ['Hannover', 132], ['Dortmund', 234]]\n"
     ]
    }
   ],
   "source": [
    "start = 'Bremen'\n",
    "end = 'Frankfurt'\n"
   ]
  },
  {
   "cell_type": "code",
   "execution_count": 65,
   "id": "2b8303aa-99fd-4c3e-a329-78b1d0f7e148",
   "metadata": {},
   "outputs": [],
   "source": [
    "def pathfinder(next_node, end, fringe, cost, path_tracker, path_chosen, city_map, city_list):\n",
    "    if next_node == end:\n",
    "        return path_tracker[path_chosen]\n",
    "    else:\n",
    "        paths = city_map[city_list[next_node]][1] #all the connecting cities from the current city\n",
    "\n",
    "        if path_tracker == []:\n",
    "            for city in paths:\n",
    "                path_tracker.append(city)\n",
    "            print(\"path_tracker initialized to: \" + str(path_tracker))\n",
    "        \n",
    "        print(\"PATH TRACKER UPDATE: \" + str(path_tracker))\n",
    "        \n",
    "        #adding cities to the fringe, along with an extra cost variable that won't change\n",
    "        for city in paths:\n",
    "            \"\"\"\n",
    "            if city[0] in (i[0] for i in fringe):\n",
    "                copycity = fringe[fringe.index(city)] #finds the duplicate city in the fringe\n",
    "                city[1] += cost\n",
    "                if copycity[1] > city[1]:\n",
    "                    fringe.remove(copycity)\n",
    "                    fringe.append(city)\n",
    "            else: #the city is not already in the fringe \n",
    "            \"\"\"\n",
    "            city[1] += cost\n",
    "            fringe.append(city)\n",
    "\n",
    "        print(fringe)\n",
    "        fringe.sort(key=lambda x: x[1])\n",
    "\n",
    "        if end in (i[0] for i in fringe):\n",
    "            print(\"goal found in fringe\")\n",
    "            return pathfinder(end, end, fringe, cost, path_tracker, path_chosen, city_map, city_list) #COST WILL NEED TO BE ADJUSTED HERE!!!\n",
    "        \n",
    "        else:                   #we'll take the lowest path UNLESS the goal exists in the fringe already\n",
    "            \n",
    "            next_node = fringe[0][0]\n",
    "            new_cost = fringe[0][1]\n",
    "            path_added = [next_node, new_cost]\n",
    "            \n",
    "            if path_chosen < 0:\n",
    "                for nodes in path_tracker:\n",
    "                    if [next_node, new_cost] == nodes:\n",
    "                        path_chosen = path_tracker.index(nodes)\n",
    "            \n",
    "            path_tracker[path_chosen].append(path_added)\n",
    "\n",
    "            if new_cost < cost: #tells us we have a better path somewhere else\n",
    "                if path_added in (i[0] for i in path_tracker):\n",
    "                    path_chosen = path_tracker.index(recall) #change what array we need to check\n",
    "                    \n",
    "            fringe.pop(0)\n",
    "\n",
    "            return pathfinder(next_node, end, fringe, new_cost, path_tracker, path_chosen, city_map, city_list)"
   ]
  },
  {
   "cell_type": "code",
   "execution_count": 27,
   "id": "eaf213eb-49b9-478f-baf2-8e954e4c909d",
   "metadata": {},
   "outputs": [
    {
     "name": "stdout",
     "output_type": "stream",
     "text": [
      "Following is the Breadth-First Search\n"
     ]
    }
   ],
   "source": [
    "visited = [] # List for visited nodes.\n",
    "queue = [] \n",
    "\n",
    "def bfs(visited, graph, node, city_list): #function for BFS\n",
    "    \n",
    "    visited.append(node)\n",
    "    queue.append(node)\n",
    "\n",
    "    while queue:          # Creating loop to visit each node\n",
    "        #print(\"popped!\")\n",
    "        m = queue.pop(0) \n",
    "        #print(m) \n",
    "\n",
    "        for neighbour in graph[city_list[m]][1]:\n",
    "            #print(neighbour)\n",
    "            if neighbour not in visited:\n",
    "                visited.append(neighbour)\n",
    "                queue.append(neighbour[0])\n",
    "                #print(\"visited: \" + str(visited))\n",
    "                #print(\"queue: \" + str(queue))\n",
    "\n",
    "    return visited\n",
    "# Driver Code\n",
    "print(\"Following is the Breadth-First Search\")\n",
    "looplist = bfs(visited, city_map, 'Bremen', city_list)    # function calling"
   ]
  },
  {
   "cell_type": "code",
   "execution_count": 34,
   "id": "cce79c63-b007-4a6f-908b-5b73f875ef87",
   "metadata": {},
   "outputs": [
    {
     "name": "stdout",
     "output_type": "stream",
     "text": [
      "Bremen\n"
     ]
    }
   ],
   "source": [
    "pathfinder('Bremen', 'Frankfurt', [], 0, [], [], -1):"
   ]
  },
  {
   "cell_type": "code",
   "execution_count": 49,
   "id": "dd9cba1f-07d5-4dde-ac83-79683d8dd4be",
   "metadata": {},
   "outputs": [
    {
     "name": "stdout",
     "output_type": "stream",
     "text": [
      "possible route!\n"
     ]
    }
   ],
   "source": [
    "if \"Frankfurt\" not in (i[0] for i in looplist):\n",
    "    print(\"no possible route\")\n",
    "else:\n",
    "    print(\"possible route!\")"
   ]
  },
  {
   "cell_type": "code",
   "execution_count": 14,
   "id": "932b37ba-244d-4577-b55c-0afc2cd83ae0",
   "metadata": {},
   "outputs": [
    {
     "data": {
      "text/plain": [
       "[['Hamburg', 116], ['Hannover', 132], ['Dortmund', 234]]"
      ]
     },
     "execution_count": 14,
     "metadata": {},
     "output_type": "execute_result"
    }
   ],
   "source": [
    "city_map[city_list[\"Bremen\"]][1]"
   ]
  },
  {
   "cell_type": "code",
   "execution_count": 40,
   "id": "3f741b5b-fbe1-44d1-8513-330905a76c7e",
   "metadata": {},
   "outputs": [
    {
     "ename": "SyntaxError",
     "evalue": "invalid syntax (742690688.py, line 26)",
     "output_type": "error",
     "traceback": [
      "\u001b[1;36m  Input \u001b[1;32mIn [40]\u001b[1;36m\u001b[0m\n\u001b[1;33m    elif (end not in (i[0] for i in looplist)):\u001b[0m\n\u001b[1;37m    ^\u001b[0m\n\u001b[1;31mSyntaxError\u001b[0m\u001b[1;31m:\u001b[0m invalid syntax\n"
     ]
    }
   ],
   "source": [
    "#THE BIG KAHUNA TRY 2 ELECTRIC BOOGALOO\n",
    "def find_route(filename, start, end):\n",
    "    #open the file and properly initialize everything\n",
    "    city_file = file_parser(filename)\n",
    "    city_map, unique_cities = generate_map(city_file)\n",
    "    \n",
    "    city_map_copy = copy.deepcopy(city_map)\n",
    "    unique_cities_copy = copy.deepcopy(unique_cities)\n",
    "\n",
    "    #run bfs to see if city distance is even possible from starting city\n",
    "    looplist = bfs(visited, city_map, start, city_list)\n",
    "    \n",
    "    #CASE I: input cities are the same\n",
    "    if start == end:\n",
    "        #do the right output\n",
    "        print(\"distance: 0 km\")\n",
    "        print(\"route:\")\n",
    "        print(start + \" to \" + end + \", 0 km\")\n",
    "        return\n",
    "    \n",
    "    #CASE II: input cities are not in the map at all\n",
    "    elif (start not in list(unique_cities.keys())) or (end not in list(unique_cities.keys())):\n",
    "        #do the right output\n",
    "        print(\"distance: infinity\")\n",
    "        print(\"route:\")\n",
    "        print(\"none\")\n",
    "        return\n",
    "    \n",
    "    #CASE III: given cities are in the map, but no possible route exists between them\n",
    "    elif (end not in (i[0] for i in looplist)):\n",
    "        print(\"distance: infinity\")\n",
    "        print(\"route:\")\n",
    "        print(\"none\")\n",
    "        return\n",
    "    \n",
    "    #CASE IV: both cities are in the map and a route between them is possible\n",
    "    else: #we are now sure the cities are different and a path can be found\n",
    "        "
   ]
  },
  {
   "cell_type": "code",
   "execution_count": 66,
   "id": "cc8f2e47-b8e1-4019-a323-a41bab99a9d5",
   "metadata": {},
   "outputs": [
    {
     "name": "stdout",
     "output_type": "stream",
     "text": [
      "path_tracker initialized to: [['B', 1], ['C', 3]]\n",
      "PATH TRACKER UPDATE: [['B', 1], ['C', 3]]\n",
      "[['B', 1], ['C', 3]]\n",
      "PATH TRACKER UPDATE: [['B', 1, ['B', 1]], ['C', 3]]\n",
      "[['C', 3], ['A', 2], ['C', 4], ['E', 11]]\n",
      "PATH TRACKER UPDATE: [['B', 1, ['B', 1], ['A', 2]], ['C', 3]]\n",
      "[['C', 5], ['C', 4], ['E', 11], ['B', 3, ['B', 1], ['A', 2]], ['C', 5]]\n",
      "PATH TRACKER UPDATE: [['B', 3, ['B', 1], ['A', 2], ['B', 3]], ['C', 5]]\n",
      "[['C', 7], ['C', 5], ['C', 5], ['E', 14], ['A', 5], ['C', 7], ['E', 14]]\n",
      "PATH TRACKER UPDATE: [['B', 3, ['B', 1], ['A', 2], ['B', 3], ['C', 5]], ['C', 5]]\n",
      "[['C', 5], ['A', 5], ['C', 7], ['C', 7], ['E', 14], ['E', 14], ['A', 8], ['B', 8], ['F', 6], ['D', 9]]\n",
      "goal found in fringe\n"
     ]
    },
    {
     "data": {
      "text/plain": [
       "['B', 3, ['B', 1], ['A', 2], ['B', 3], ['C', 5]]"
      ]
     },
     "execution_count": 66,
     "metadata": {},
     "output_type": "execute_result"
    }
   ],
   "source": [
    "tester = file_parser('small_map.txt')\n",
    "small_map, small_list = generate_map(tester)\n",
    "\n",
    "pathfinder('A', 'F', [], 0, [], -1, small_map, small_list)"
   ]
  },
  {
   "cell_type": "code",
   "execution_count": 69,
   "id": "078d054e-8156-41dc-a077-b281de027348",
   "metadata": {},
   "outputs": [
    {
     "name": "stderr",
     "output_type": "stream",
     "text": [
      "<>:1: SyntaxWarning: list indices must be integers or slices, not tuple; perhaps you missed a comma?\n",
      "<>:1: SyntaxWarning: list indices must be integers or slices, not tuple; perhaps you missed a comma?\n",
      "C:\\Users\\hmvos\\AppData\\Local\\Temp\\ipykernel_3972\\187195754.py:1: SyntaxWarning: list indices must be integers or slices, not tuple; perhaps you missed a comma?\n",
      "  i = [[1, 'a'], [2, 'c'], [1, 'f'] [4,'e']]\n",
      "C:\\Users\\hmvos\\AppData\\Local\\Temp\\ipykernel_3972\\187195754.py:1: SyntaxWarning: list indices must be integers or slices, not tuple; perhaps you missed a comma?\n",
      "  i = [[1, 'a'], [2, 'c'], [1, 'f'] [4,'e']]\n",
      "C:\\Users\\hmvos\\AppData\\Local\\Temp\\ipykernel_3972\\187195754.py:1: SyntaxWarning: list indices must be integers or slices, not tuple; perhaps you missed a comma?\n",
      "  i = [[1, 'a'], [2, 'c'], [1, 'f'] [4,'e']]\n"
     ]
    },
    {
     "ename": "TypeError",
     "evalue": "list indices must be integers or slices, not tuple",
     "output_type": "error",
     "traceback": [
      "\u001b[1;31m---------------------------------------------------------------------------\u001b[0m",
      "\u001b[1;31mTypeError\u001b[0m                                 Traceback (most recent call last)",
      "Input \u001b[1;32mIn [69]\u001b[0m, in \u001b[0;36m<cell line: 1>\u001b[1;34m()\u001b[0m\n\u001b[1;32m----> 1\u001b[0m i \u001b[38;5;241m=\u001b[39m [[\u001b[38;5;241m1\u001b[39m, \u001b[38;5;124m'\u001b[39m\u001b[38;5;124ma\u001b[39m\u001b[38;5;124m'\u001b[39m], [\u001b[38;5;241m2\u001b[39m, \u001b[38;5;124m'\u001b[39m\u001b[38;5;124mc\u001b[39m\u001b[38;5;124m'\u001b[39m], \u001b[43m[\u001b[49m\u001b[38;5;241;43m1\u001b[39;49m\u001b[43m,\u001b[49m\u001b[43m \u001b[49m\u001b[38;5;124;43m'\u001b[39;49m\u001b[38;5;124;43mf\u001b[39;49m\u001b[38;5;124;43m'\u001b[39;49m\u001b[43m]\u001b[49m\u001b[43m \u001b[49m\u001b[43m[\u001b[49m\u001b[38;5;241;43m4\u001b[39;49m\u001b[43m,\u001b[49m\u001b[38;5;124;43m'\u001b[39;49m\u001b[38;5;124;43me\u001b[39;49m\u001b[38;5;124;43m'\u001b[39;49m\u001b[43m]\u001b[49m]\n\u001b[0;32m      3\u001b[0m np\u001b[38;5;241m.\u001b[39mwhere(i \u001b[38;5;241m==\u001b[39m \u001b[38;5;241m1\u001b[39m)\n",
      "\u001b[1;31mTypeError\u001b[0m: list indices must be integers or slices, not tuple"
     ]
    }
   ],
   "source": [
    "i = [[1, 'a'], [2, 'c'], [1, 'f'] [4,'e']]\n",
    "\n",
    "np.where(i == 1)"
   ]
  }
 ],
 "metadata": {
  "kernelspec": {
   "display_name": "Python 3 (ipykernel)",
   "language": "python",
   "name": "python3"
  },
  "language_info": {
   "codemirror_mode": {
    "name": "ipython",
    "version": 3
   },
   "file_extension": ".py",
   "mimetype": "text/x-python",
   "name": "python",
   "nbconvert_exporter": "python",
   "pygments_lexer": "ipython3",
   "version": "3.9.12"
  }
 },
 "nbformat": 4,
 "nbformat_minor": 5
}
